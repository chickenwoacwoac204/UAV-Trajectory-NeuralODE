{
 "cells": [
  {
   "cell_type": "code",
   "execution_count": 1,
   "metadata": {},
   "outputs": [],
   "source": [
    "import torch\n",
    "import torch.nn as nn\n",
    "import torch.optim as optim\n",
    "import torch.nn.functional as F\n",
    "import numpy as np\n",
    "import pandas as pd\n",
    "import matplotlib.pyplot as plt\n",
    "from torchdiffeq import odeint\n",
    "from torch.utils.data import DataLoader, TensorDataset\n",
    "from sklearn.preprocessing import MinMaxScaler"
   ]
  },
  {
   "cell_type": "code",
   "execution_count": 2,
   "metadata": {},
   "outputs": [
    {
     "name": "stdout",
     "output_type": "stream",
     "text": [
      "Using device: cuda\n"
     ]
    }
   ],
   "source": [
    "# Set device\n",
    "device = torch.device(\"cuda\" if torch.cuda.is_available() else \"cpu\")\n",
    "print(f\"Using device: {device}\")"
   ]
  },
  {
   "cell_type": "code",
   "execution_count": 3,
   "metadata": {},
   "outputs": [],
   "source": [
    "# Set random seeds for reproducibility\n",
    "torch.manual_seed(42)\n",
    "np.random.seed(42)"
   ]
  },
  {
   "cell_type": "code",
   "execution_count": 4,
   "metadata": {},
   "outputs": [],
   "source": [
    "# Load the data\n",
    "complete_data = pd.read_csv('../data/raw/uav_hugging_face.csv')\n",
    "incomplete_data = pd.read_csv('../data/raw/uav_hugging_face.csv')"
   ]
  },
  {
   "cell_type": "code",
   "execution_count": 5,
   "metadata": {},
   "outputs": [],
   "source": [
    "# Extract time and features\n",
    "complete_time = complete_data['timestamp'].values\n",
    "complete_features = complete_data[['tx', 'ty', 'tz']].values\n"
   ]
  },
  {
   "cell_type": "code",
   "execution_count": 6,
   "metadata": {},
   "outputs": [],
   "source": [
    "incomplete_time = incomplete_data['timestamp'].values\n",
    "incomplete_features = incomplete_data[['tx', 'ty', 'tz']].values\n"
   ]
  },
  {
   "cell_type": "code",
   "execution_count": 7,
   "metadata": {},
   "outputs": [],
   "source": [
    "# Normalize the time to [0, 1]\n",
    "time_scaler = MinMaxScaler()\n",
    "complete_time_norm = time_scaler.fit_transform(complete_time.reshape(-1, 1)).flatten()\n"
   ]
  },
  {
   "cell_type": "code",
   "execution_count": 8,
   "metadata": {},
   "outputs": [],
   "source": [
    "# Normalize features\n",
    "feature_scaler = MinMaxScaler()\n",
    "complete_features_norm = feature_scaler.fit_transform(complete_features)\n",
    "incomplete_features_norm = feature_scaler.transform(incomplete_features)\n"
   ]
  },
  {
   "cell_type": "code",
   "execution_count": 9,
   "metadata": {},
   "outputs": [],
   "source": [
    "# Create a mask for observed time points in the incomplete dataset\n",
    "observed_mask = np.zeros(len(complete_time))\n",
    "for t in incomplete_time:\n",
    "    idx = np.where(complete_time == t)[0]\n",
    "    if len(idx) > 0:\n",
    "        observed_mask[idx[0]] = 1"
   ]
  },
  {
   "cell_type": "code",
   "execution_count": 10,
   "metadata": {},
   "outputs": [],
   "source": [
    "# Convert to PyTorch tensors\n",
    "complete_time_tensor = torch.tensor(complete_time_norm, dtype=torch.float32)\n",
    "complete_features_tensor = torch.tensor(complete_features_norm, dtype=torch.float32)\n",
    "incomplete_time_tensor = torch.tensor(time_scaler.transform(incomplete_time.reshape(-1, 1)).flatten(), dtype=torch.float32)\n",
    "incomplete_features_tensor = torch.tensor(incomplete_features_norm, dtype=torch.float32)\n",
    "observed_mask_tensor = torch.tensor(observed_mask, dtype=torch.float32)\n"
   ]
  },
  {
   "cell_type": "code",
   "execution_count": 11,
   "metadata": {},
   "outputs": [],
   "source": [
    "# Define the Latent ODE model components\n",
    "class LatentODEFunc(nn.Module):\n",
    "    \"\"\"ODE function for the latent dynamics\"\"\"\n",
    "    def __init__(self, latent_dim, hidden_dim):\n",
    "        super(LatentODEFunc, self).__init__()\n",
    "        self.net = nn.Sequential(\n",
    "            nn.Linear(latent_dim, hidden_dim),\n",
    "            nn.Tanh(),\n",
    "            nn.Linear(hidden_dim, hidden_dim),\n",
    "            nn.Tanh(),\n",
    "            nn.Linear(hidden_dim, latent_dim)\n",
    "        )\n",
    "        \n",
    "    def forward(self, t, x):\n",
    "        \"\"\"Time derivative of the latent state\"\"\"\n",
    "        return self.net(x)"
   ]
  },
  {
   "cell_type": "code",
   "execution_count": 12,
   "metadata": {},
   "outputs": [],
   "source": [
    "class Encoder(nn.Module):\n",
    "    \"\"\"Encodes the observed data into initial latent state\"\"\"\n",
    "    def __init__(self, input_dim, hidden_dim, latent_dim):\n",
    "        super(Encoder, self).__init__()\n",
    "        self.lstm = nn.LSTM(input_dim, hidden_dim, batch_first=True)\n",
    "        self.linear = nn.Linear(hidden_dim, latent_dim * 2)  # For mean and logvar\n",
    "        \n",
    "    def forward(self, x, time):\n",
    "        \"\"\"\n",
    "        x: [batch_size, seq_len, input_dim]\n",
    "        time: [batch_size, seq_len]\n",
    "        \"\"\"\n",
    "        # Sort by time\n",
    "        _, indices = torch.sort(time, dim=1)\n",
    "        batch_size, seq_len = x.size(0), x.size(1)\n",
    "        sorted_indices = indices.unsqueeze(-1).expand(-1, -1, x.size(-1))\n",
    "        x_sorted = torch.gather(x, 1, sorted_indices)\n",
    "        \n",
    "        h, _ = self.lstm(x_sorted)\n",
    "        h = h[:, -1, :]  # Take the last hidden state\n",
    "        \n",
    "        params = self.linear(h)\n",
    "        mean, logvar = torch.chunk(params, 2, dim=1)\n",
    "        \n",
    "        # Reparameterization trick\n",
    "        std = torch.exp(0.5 * logvar)\n",
    "        eps = torch.randn_like(std)\n",
    "        z0 = mean + eps * std\n",
    "        \n",
    "        return z0, mean, logvar\n"
   ]
  },
  {
   "cell_type": "code",
   "execution_count": 13,
   "metadata": {},
   "outputs": [],
   "source": [
    "\n",
    "class Decoder(nn.Module):\n",
    "    \"\"\"Decodes the latent state into observed data\"\"\"\n",
    "    def __init__(self, latent_dim, hidden_dim, output_dim):\n",
    "        super(Decoder, self).__init__()\n",
    "        self.net = nn.Sequential(\n",
    "            nn.Linear(latent_dim, hidden_dim),\n",
    "            nn.ReLU(),\n",
    "            nn.Linear(hidden_dim, hidden_dim),\n",
    "            nn.ReLU(),\n",
    "            nn.Linear(hidden_dim, output_dim)\n",
    "        )\n",
    "        \n",
    "    def forward(self, z):\n",
    "        \"\"\"\n",
    "        z: [batch_size, seq_len, latent_dim]\n",
    "        \"\"\"\n",
    "        return self.net(z)\n"
   ]
  },
  {
   "cell_type": "code",
   "execution_count": 14,
   "metadata": {},
   "outputs": [],
   "source": [
    "class LatentODE(nn.Module):\n",
    "    \"\"\"Complete Latent ODE model\"\"\"\n",
    "    def __init__(self, input_dim, latent_dim, hidden_dim, device):\n",
    "        super(LatentODE, self).__init__()\n",
    "        self.encoder = Encoder(input_dim, hidden_dim, latent_dim)\n",
    "        self.func = LatentODEFunc(latent_dim, hidden_dim)\n",
    "        self.decoder = Decoder(latent_dim, hidden_dim, input_dim)\n",
    "        self.latent_dim = latent_dim\n",
    "        self.device = device\n",
    "        \n",
    "    def forward(self, x, time_points, target_time_points):\n",
    "        \"\"\"\n",
    "        x: [batch_size, seq_len, input_dim]\n",
    "        time_points: [batch_size, seq_len]\n",
    "        target_time_points: times to evaluate the ODE at\n",
    "        \"\"\"\n",
    "        batch_size = x.size(0)\n",
    "        \n",
    "        # Get initial latent state\n",
    "        z0, mean, logvar = self.encoder(x, time_points)\n",
    "        \n",
    "        # Integrate the ODE\n",
    "        target_time_points = target_time_points.to(self.device)\n",
    "        z = odeint(self.func, z0, target_time_points)\n",
    "        z = z.permute(1, 0, 2)  # [batch_size, seq_len, latent_dim]\n",
    "        \n",
    "        # Decode\n",
    "        x_pred = self.decoder(z)\n",
    "        \n",
    "        return x_pred, mean, logvar\n"
   ]
  },
  {
   "cell_type": "code",
   "execution_count": 15,
   "metadata": {},
   "outputs": [],
   "source": [
    "# Model hyperparameters\n",
    "input_dim = 3  # tx, ty, tz\n",
    "latent_dim = 4\n",
    "hidden_dim = 64\n",
    "batch_size = 176\n",
    "epochs = 1000\n",
    "lr = 1e-3"
   ]
  },
  {
   "cell_type": "code",
   "execution_count": 16,
   "metadata": {},
   "outputs": [],
   "source": [
    "# Reshape for batched training (we'll use a batch size of 1 since we have one trajectory)\n",
    "complete_dataset = TensorDataset(\n",
    "    complete_features_tensor.unsqueeze(0), \n",
    "    complete_time_tensor.unsqueeze(0)\n",
    ")\n",
    "complete_loader = DataLoader(complete_dataset, batch_size=1, shuffle=False)\n"
   ]
  },
  {
   "cell_type": "code",
   "execution_count": 17,
   "metadata": {},
   "outputs": [],
   "source": [
    "# Create and train the model\n",
    "model = LatentODE(input_dim, latent_dim, hidden_dim, device).to(device)\n",
    "optimizer = optim.Adam(model.parameters(), lr=lr)\n"
   ]
  },
  {
   "cell_type": "code",
   "execution_count": 18,
   "metadata": {},
   "outputs": [],
   "source": [
    "def loss_fn(pred, target, mean, logvar, mask=None):\n",
    "    \"\"\"\n",
    "    Loss function with reconstruction loss and KL divergence\n",
    "    \"\"\"\n",
    "    if mask is None:\n",
    "        mask = torch.ones_like(target)\n",
    "    \n",
    "    # MSE reconstruction loss\n",
    "    recon_loss = torch.sum(mask.unsqueeze(-1) * (pred - target)**2) / torch.sum(mask.unsqueeze(-1))\n",
    "    \n",
    "    # KL divergence\n",
    "    kl_loss = -0.5 * torch.mean(1 + logvar - mean.pow(2) - logvar.exp())\n",
    "    \n",
    "    return recon_loss + 0.1 * kl_loss, recon_loss, kl_loss\n"
   ]
  },
  {
   "cell_type": "code",
   "execution_count": 19,
   "metadata": {},
   "outputs": [
    {
     "name": "stdout",
     "output_type": "stream",
     "text": [
      "Starting training...\n",
      "Epoch 10/1000, Loss: 0.979713\n",
      "Epoch 20/1000, Loss: 0.607970\n",
      "Epoch 30/1000, Loss: 0.281398\n",
      "Epoch 40/1000, Loss: 0.307383\n",
      "Epoch 50/1000, Loss: 0.300703\n",
      "Epoch 60/1000, Loss: 0.280158\n",
      "Epoch 70/1000, Loss: 0.314379\n",
      "Epoch 80/1000, Loss: 0.266520\n",
      "Epoch 90/1000, Loss: 0.291454\n",
      "Epoch 100/1000, Loss: 0.264280\n",
      "Epoch 110/1000, Loss: 0.286660\n",
      "Epoch 120/1000, Loss: 0.266207\n",
      "Epoch 130/1000, Loss: 0.276017\n",
      "Epoch 140/1000, Loss: 0.285599\n",
      "Epoch 150/1000, Loss: 0.283290\n",
      "Epoch 160/1000, Loss: 0.309955\n",
      "Epoch 170/1000, Loss: 0.280468\n",
      "Epoch 180/1000, Loss: 0.268880\n",
      "Epoch 190/1000, Loss: 0.261663\n",
      "Epoch 200/1000, Loss: 0.261596\n",
      "Epoch 210/1000, Loss: 0.259944\n",
      "Epoch 220/1000, Loss: 0.260344\n",
      "Epoch 230/1000, Loss: 0.295365\n",
      "Epoch 240/1000, Loss: 0.263374\n",
      "Epoch 250/1000, Loss: 0.257621\n",
      "Epoch 260/1000, Loss: 0.262226\n",
      "Epoch 270/1000, Loss: 0.265967\n",
      "Epoch 280/1000, Loss: 0.261428\n",
      "Epoch 290/1000, Loss: 0.259622\n",
      "Epoch 300/1000, Loss: 0.288579\n",
      "Epoch 310/1000, Loss: 0.263779\n",
      "Epoch 320/1000, Loss: 0.262412\n",
      "Epoch 330/1000, Loss: 0.263088\n",
      "Epoch 340/1000, Loss: 0.255774\n",
      "Epoch 350/1000, Loss: 0.258091\n",
      "Epoch 360/1000, Loss: 0.261366\n",
      "Epoch 370/1000, Loss: 0.263676\n",
      "Epoch 380/1000, Loss: 0.256681\n",
      "Epoch 390/1000, Loss: 0.259951\n",
      "Epoch 400/1000, Loss: 0.279013\n",
      "Epoch 410/1000, Loss: 0.256225\n",
      "Epoch 420/1000, Loss: 0.257159\n",
      "Epoch 430/1000, Loss: 0.256328\n",
      "Epoch 440/1000, Loss: 0.258301\n",
      "Epoch 450/1000, Loss: 0.257316\n",
      "Epoch 460/1000, Loss: 0.273133\n",
      "Epoch 470/1000, Loss: 0.253295\n",
      "Epoch 480/1000, Loss: 0.256684\n",
      "Epoch 490/1000, Loss: 0.251323\n",
      "Epoch 500/1000, Loss: 0.255408\n",
      "Epoch 510/1000, Loss: 0.263259\n",
      "Epoch 520/1000, Loss: 0.250453\n",
      "Epoch 530/1000, Loss: 0.254179\n",
      "Epoch 540/1000, Loss: 0.254840\n",
      "Epoch 550/1000, Loss: 0.249908\n",
      "Epoch 560/1000, Loss: 0.254259\n",
      "Epoch 570/1000, Loss: 0.250876\n",
      "Epoch 580/1000, Loss: 0.253970\n",
      "Epoch 590/1000, Loss: 0.250950\n",
      "Epoch 600/1000, Loss: 0.248348\n",
      "Epoch 610/1000, Loss: 0.252997\n",
      "Epoch 620/1000, Loss: 0.254748\n",
      "Epoch 630/1000, Loss: 0.261267\n",
      "Epoch 640/1000, Loss: 0.257640\n",
      "Epoch 650/1000, Loss: 0.248558\n",
      "Epoch 660/1000, Loss: 0.251679\n",
      "Epoch 670/1000, Loss: 0.251864\n",
      "Epoch 680/1000, Loss: 0.247265\n",
      "Epoch 690/1000, Loss: 0.248428\n",
      "Epoch 700/1000, Loss: 0.255985\n",
      "Epoch 710/1000, Loss: 0.259034\n",
      "Epoch 720/1000, Loss: 0.242185\n",
      "Epoch 730/1000, Loss: 0.257495\n",
      "Epoch 740/1000, Loss: 0.248314\n",
      "Epoch 750/1000, Loss: 0.244268\n",
      "Epoch 760/1000, Loss: 0.256379\n",
      "Epoch 770/1000, Loss: 0.239055\n",
      "Epoch 780/1000, Loss: 0.279935\n",
      "Epoch 790/1000, Loss: 0.276445\n",
      "Epoch 800/1000, Loss: 0.245999\n",
      "Epoch 810/1000, Loss: 0.244758\n",
      "Epoch 820/1000, Loss: 0.241206\n",
      "Epoch 830/1000, Loss: 0.252441\n",
      "Epoch 840/1000, Loss: 0.261176\n",
      "Epoch 850/1000, Loss: 0.240174\n",
      "Epoch 860/1000, Loss: 0.239498\n",
      "Epoch 870/1000, Loss: 0.236274\n",
      "Epoch 880/1000, Loss: 0.280880\n",
      "Epoch 890/1000, Loss: 0.232540\n",
      "Epoch 900/1000, Loss: 0.242521\n",
      "Epoch 910/1000, Loss: 0.231772\n",
      "Epoch 920/1000, Loss: 0.242097\n",
      "Epoch 930/1000, Loss: 0.254862\n",
      "Epoch 940/1000, Loss: 0.253167\n",
      "Epoch 950/1000, Loss: 0.249642\n",
      "Epoch 960/1000, Loss: 0.246172\n",
      "Epoch 970/1000, Loss: 0.240386\n",
      "Epoch 980/1000, Loss: 0.225320\n",
      "Epoch 990/1000, Loss: 0.227812\n",
      "Epoch 1000/1000, Loss: 0.229526\n",
      "Training completed!\n"
     ]
    }
   ],
   "source": [
    "# Training loop\n",
    "print(\"Starting training...\")\n",
    "losses = []\n",
    "\n",
    "for epoch in range(epochs):\n",
    "    model.train()\n",
    "    epoch_loss = 0.0\n",
    "    \n",
    "    for batch_idx, (x_batch, t_batch) in enumerate(complete_loader):\n",
    "        x_batch = x_batch.to(device)\n",
    "        t_batch = t_batch.to(device)\n",
    "        \n",
    "        optimizer.zero_grad()\n",
    "        \n",
    "        # Forward pass\n",
    "        x_pred, mean, logvar = model(x_batch, t_batch, complete_time_tensor.to(device))\n",
    "        \n",
    "        # Compute loss\n",
    "        loss, recon_loss, kl_loss = loss_fn(x_pred, x_batch, mean, logvar, observed_mask_tensor.to(device))\n",
    "        \n",
    "        # Backward pass\n",
    "        loss.backward()\n",
    "        optimizer.step()\n",
    "        \n",
    "        epoch_loss += loss.item()\n",
    "    \n",
    "    avg_loss = epoch_loss / len(complete_loader)\n",
    "    losses.append(avg_loss)\n",
    "    \n",
    "    if (epoch + 1) % 10 == 0:\n",
    "        print(f\"Epoch {epoch+1}/{epochs}, Loss: {avg_loss:.6f}\")\n",
    "\n",
    "print(\"Training completed!\")"
   ]
  },
  {
   "cell_type": "code",
   "execution_count": 20,
   "metadata": {},
   "outputs": [],
   "source": [
    "# Evaluation and visualization\n",
    "model.eval()\n",
    "with torch.no_grad():\n",
    "    x_complete = complete_features_tensor.unsqueeze(0).to(device)\n",
    "    t_complete = complete_time_tensor.unsqueeze(0).to(device)\n",
    "    \n",
    "    # Get predictions for all time points\n",
    "    x_pred, _, _ = model(x_complete, t_complete, complete_time_tensor.to(device))\n",
    "    \n",
    "    # Move predictions back to CPU and convert to numpy\n",
    "    x_pred = x_pred.squeeze(0).cpu().numpy()\n",
    "    \n",
    "    # Inverse transform to get the original scale\n",
    "    x_pred_original = feature_scaler.inverse_transform(x_pred)\n"
   ]
  },
  {
   "cell_type": "code",
   "execution_count": 21,
   "metadata": {},
   "outputs": [],
   "source": [
    "# Compare the reconstructed trajectory with the original\n",
    "plt.figure(figsize=(15, 10))\n",
    "features = ['tx', 'ty', 'tz']\n",
    "\n",
    "for i in range(3):\n",
    "    plt.subplot(3, 1, i+1)\n",
    "    \n",
    "    # Original complete data\n",
    "    plt.plot(complete_time, complete_features[:, i], 'b-', label='Original Complete')\n",
    "    \n",
    "    # Incomplete data points\n",
    "    plt.plot(incomplete_time, incomplete_features[:, i], 'ro', markersize=4, label='Observed (Incomplete)')\n",
    "    \n",
    "    # Reconstructed trajectory\n",
    "    plt.plot(complete_time, x_pred_original[:, i], 'g--', label='Reconstructed')\n",
    "    \n",
    "    plt.title(f'Feature: {features[i]}')\n",
    "    plt.xlabel('Time')\n",
    "    plt.ylabel(features[i])\n",
    "    plt.legend()\n",
    "\n",
    "plt.tight_layout()\n",
    "plt.savefig('../output/4000_epoch/uav_trajectory_reconstruction.png')\n",
    "plt.close()"
   ]
  },
  {
   "cell_type": "code",
   "execution_count": 22,
   "metadata": {},
   "outputs": [
    {
     "name": "stdout",
     "output_type": "stream",
     "text": [
      "Missing points reconstruction - MSE: nan, MAE: nan\n"
     ]
    },
    {
     "name": "stderr",
     "output_type": "stream",
     "text": [
      "/home/chicken/Pytorch/lib/python3.10/site-packages/numpy/core/fromnumeric.py:3464: RuntimeWarning: Mean of empty slice.\n",
      "  return _methods._mean(a, axis=axis, dtype=dtype,\n",
      "/home/chicken/Pytorch/lib/python3.10/site-packages/numpy/core/_methods.py:192: RuntimeWarning: invalid value encountered in scalar divide\n",
      "  ret = ret.dtype.type(ret / rcount)\n"
     ]
    }
   ],
   "source": [
    "# Calculate reconstruction error\n",
    "# First, find indices that exist in complete dataset but not in incomplete\n",
    "missing_indices = np.where(observed_mask == 0)[0]\n",
    "missing_original = complete_features[missing_indices]\n",
    "missing_reconstructed = x_pred_original[missing_indices]\n",
    "\n",
    "mse = np.mean((missing_original - missing_reconstructed) ** 2)\n",
    "mae = np.mean(np.abs(missing_original - missing_reconstructed))\n",
    "\n",
    "print(f\"Missing points reconstruction - MSE: {mse:.6f}, MAE: {mae:.6f}\")\n"
   ]
  },
  {
   "cell_type": "code",
   "execution_count": 23,
   "metadata": {},
   "outputs": [
    {
     "name": "stdout",
     "output_type": "stream",
     "text": [
      "Dimension tx - MSE: nan, MAE: nan\n",
      "Dimension ty - MSE: nan, MAE: nan\n",
      "Dimension tz - MSE: nan, MAE: nan\n"
     ]
    }
   ],
   "source": [
    "# Calculate error metrics for each dimension\n",
    "for i in range(3):\n",
    "    mse_dim = np.mean((missing_original[:, i] - missing_reconstructed[:, i]) ** 2)\n",
    "    mae_dim = np.mean(np.abs(missing_original[:, i] - missing_reconstructed[:, i]))\n",
    "    print(f\"Dimension {features[i]} - MSE: {mse_dim:.6f}, MAE: {mae_dim:.6f}\")\n"
   ]
  },
  {
   "cell_type": "code",
   "execution_count": 24,
   "metadata": {},
   "outputs": [],
   "source": [
    "# Create a more detailed comparison plot for missing points\n",
    "plt.figure(figsize=(15, 10))\n",
    "for i in range(3):\n",
    "    plt.subplot(3, 1, i+1)\n",
    "    \n",
    "    # Original values at missing points\n",
    "    plt.plot(complete_time[missing_indices], missing_original[:, i], 'bx', markersize=6, label='Original (Missing)')\n",
    "    \n",
    "    # Reconstructed values at missing points\n",
    "    plt.plot(complete_time[missing_indices], missing_reconstructed[:, i], 'go', markersize=4, label='Reconstructed')\n",
    "    \n",
    "    plt.title(f'Reconstruction of Missing Points: {features[i]}')\n",
    "    plt.xlabel('Time')\n",
    "    plt.ylabel(features[i])\n",
    "    plt.legend()\n",
    "\n",
    "plt.tight_layout()\n",
    "plt.savefig('../output/4000_epoch/missing_points_comparison.png')\n",
    "plt.close()"
   ]
  },
  {
   "cell_type": "code",
   "execution_count": 25,
   "metadata": {},
   "outputs": [],
   "source": [
    "# Plot training loss\n",
    "plt.figure(figsize=(10, 6))\n",
    "plt.plot(range(1, len(losses) + 1), losses)\n",
    "plt.title('Training Loss')\n",
    "plt.xlabel('Epoch')\n",
    "plt.ylabel('Loss')\n",
    "plt.grid(True)\n",
    "plt.savefig('../output/4000_epoch/training_loss.png')\n",
    "plt.close()\n"
   ]
  },
  {
   "cell_type": "code",
   "execution_count": 26,
   "metadata": {},
   "outputs": [],
   "source": [
    "# 3D trajectory visualization\n",
    "fig = plt.figure(figsize=(10, 8))\n",
    "ax = fig.add_subplot(111, projection='3d')\n",
    "\n",
    "# Original complete trajectory\n",
    "ax.plot3D(complete_features[:, 0], complete_features[:, 1], complete_features[:, 2], \n",
    "         'b-', linewidth=1, label='Original Complete')\n",
    "\n",
    "# Observed points\n",
    "ax.scatter(incomplete_features[:, 0], incomplete_features[:, 1], incomplete_features[:, 2], \n",
    "          c='r', s=30, label='Observed Points')\n",
    "\n",
    "# Reconstructed trajectory\n",
    "ax.plot3D(x_pred_original[:, 0], x_pred_original[:, 1], x_pred_original[:, 2], \n",
    "         'g--', linewidth=2, label='Reconstructed')\n",
    "\n",
    "ax.set_xlabel('tx')\n",
    "ax.set_ylabel('ty')\n",
    "ax.set_zlabel('tz')\n",
    "ax.set_title('UAV 3D Trajectory Reconstruction')\n",
    "ax.legend()\n",
    "\n",
    "plt.tight_layout()\n",
    "plt.savefig('../output/4000_epoch/uav_3d_trajectory.png')\n",
    "plt.close()"
   ]
  },
  {
   "cell_type": "code",
   "execution_count": 27,
   "metadata": {},
   "outputs": [
    {
     "name": "stdout",
     "output_type": "stream",
     "text": [
      "Visualization completed! Check the output images for results.\n"
     ]
    }
   ],
   "source": [
    "print(\"Visualization completed! Check the output images for results.\")"
   ]
  },
  {
   "cell_type": "code",
   "execution_count": 28,
   "metadata": {},
   "outputs": [
    {
     "name": "stdout",
     "output_type": "stream",
     "text": [
      "Reconstructed trajectory saved to 'uav_reconstructed_trajectory.csv'\n"
     ]
    }
   ],
   "source": [
    "# Save the reconstructed trajectory to CSV\n",
    "reconstructed_df = pd.DataFrame({\n",
    "    'timestamp': complete_time,\n",
    "    'tx': x_pred_original[:, 0],\n",
    "    'ty': x_pred_original[:, 1],\n",
    "    'tz': x_pred_original[:, 2]\n",
    "})\n",
    "reconstructed_df.to_csv('../data/processed/uav_reconstructed_trajectory.csv', index=False)\n",
    "print(\"Reconstructed trajectory saved to 'uav_reconstructed_trajectory.csv'\")"
   ]
  }
 ],
 "metadata": {
  "kernelspec": {
   "display_name": "Pytorch",
   "language": "python",
   "name": "python3"
  },
  "language_info": {
   "codemirror_mode": {
    "name": "ipython",
    "version": 3
   },
   "file_extension": ".py",
   "mimetype": "text/x-python",
   "name": "python",
   "nbconvert_exporter": "python",
   "pygments_lexer": "ipython3",
   "version": "3.10.12"
  }
 },
 "nbformat": 4,
 "nbformat_minor": 2
}
