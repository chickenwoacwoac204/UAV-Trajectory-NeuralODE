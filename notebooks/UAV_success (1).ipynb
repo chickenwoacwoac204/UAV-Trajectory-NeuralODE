{
  "cells": [
    {
      "cell_type": "code",
      "execution_count": 1,
      "metadata": {
        "colab": {
          "base_uri": "https://localhost:8080/",
          "height": 383
        },
        "id": "7vAQNh2Lky7b",
        "outputId": "8e7f5e41-8b8b-4a6e-c88d-ad4a5063dd3c"
      },
      "outputs": [],
      "source": [
        "import torch\n",
        "import torch.nn as nn\n",
        "import torch.optim as optim\n",
        "import torch.nn.functional as F\n",
        "import numpy as np\n",
        "import pandas as pd\n",
        "import matplotlib.pyplot as plt\n",
        "from torchdiffeq import odeint\n",
        "from torch.utils.data import DataLoader, TensorDataset\n",
        "from sklearn.preprocessing import MinMaxScaler"
      ]
    },
    {
      "cell_type": "code",
      "execution_count": 2,
      "metadata": {
        "id": "aAKjrZi8lGlo"
      },
      "outputs": [
        {
          "name": "stdout",
          "output_type": "stream",
          "text": [
            "Using device: cuda\n"
          ]
        }
      ],
      "source": [
        "# Set device\n",
        "device = torch.device(\"cuda\" if torch.cuda.is_available() else \"cpu\")\n",
        "print(f\"Using device: {device}\")"
      ]
    },
    {
      "cell_type": "code",
      "execution_count": 3,
      "metadata": {
        "id": "Nf10YeTJl6Xe"
      },
      "outputs": [],
      "source": [
        "# Set random seeds for reproducibility\n",
        "torch.manual_seed(42)\n",
        "np.random.seed(42)"
      ]
    },
    {
      "cell_type": "code",
      "execution_count": null,
      "metadata": {
        "id": "jb1llNPHmE7O"
      },
      "outputs": [],
      "source": [
        "# Load the data\n",
        "complete_data = pd.read_csv('../data/raw/uav_hugging_face.csv')\n",
        "incomplete_data = pd.read_csv('../data/processed/uav_hugging_face_dropped_20.csv')"
      ]
    },
    {
      "cell_type": "code",
      "execution_count": 5,
      "metadata": {
        "id": "359WWhUkmNy-"
      },
      "outputs": [],
      "source": [
        "# Extract time and features\n",
        "complete_time = complete_data['timestamp'].values\n",
        "complete_features = complete_data[['tx', 'ty', 'tz']].values\n"
      ]
    },
    {
      "cell_type": "code",
      "execution_count": 6,
      "metadata": {
        "id": "9Zdt0XkjmPOe"
      },
      "outputs": [],
      "source": [
        "incomplete_time = incomplete_data['timestamp'].values\n",
        "incomplete_features = incomplete_data[['tx', 'ty', 'tz']].values\n"
      ]
    },
    {
      "cell_type": "code",
      "execution_count": 7,
      "metadata": {
        "id": "E8g0cBsMmPJO"
      },
      "outputs": [],
      "source": [
        "# Normalize the time to [0, 1]\n",
        "time_scaler = MinMaxScaler()\n",
        "complete_time_norm = time_scaler.fit_transform(complete_time.reshape(-1, 1)).flatten()\n"
      ]
    },
    {
      "cell_type": "code",
      "execution_count": 8,
      "metadata": {
        "id": "-EUnzVwVmeym"
      },
      "outputs": [],
      "source": [
        "# Normalize features\n",
        "feature_scaler = MinMaxScaler()\n",
        "complete_features_norm = feature_scaler.fit_transform(complete_features)\n",
        "incomplete_features_norm = feature_scaler.transform(incomplete_features)\n"
      ]
    },
    {
      "cell_type": "code",
      "execution_count": 9,
      "metadata": {
        "id": "4l1YwKaQmgk3"
      },
      "outputs": [],
      "source": [
        "# Create a mask for observed time points in the incomplete dataset\n",
        "observed_mask = np.zeros(len(complete_time))\n",
        "for t in incomplete_time:\n",
        "    idx = np.where(complete_time == t)[0]\n",
        "    if len(idx) > 0:\n",
        "        observed_mask[idx[0]] = 1"
      ]
    },
    {
      "cell_type": "code",
      "execution_count": 10,
      "metadata": {
        "id": "NUsBIySVmiNW"
      },
      "outputs": [],
      "source": [
        "# Convert to PyTorch tensors\n",
        "complete_time_tensor = torch.tensor(complete_time_norm, dtype=torch.float32)\n",
        "complete_features_tensor = torch.tensor(complete_features_norm, dtype=torch.float32)\n",
        "incomplete_time_tensor = torch.tensor(time_scaler.transform(incomplete_time.reshape(-1, 1)).flatten(), dtype=torch.float32)\n",
        "incomplete_features_tensor = torch.tensor(incomplete_features_norm, dtype=torch.float32)\n",
        "observed_mask_tensor = torch.tensor(observed_mask, dtype=torch.float32)\n"
      ]
    },
    {
      "cell_type": "code",
      "execution_count": 11,
      "metadata": {
        "id": "_2KfUhAYmjVW"
      },
      "outputs": [],
      "source": [
        "# Define the Latent ODE model components\n",
        "class LatentODEFunc(nn.Module):\n",
        "    \"\"\"ODE function for the latent dynamics\"\"\"\n",
        "    def __init__(self, latent_dim, hidden_dim):\n",
        "        super(LatentODEFunc, self).__init__()\n",
        "        self.net = nn.Sequential(\n",
        "            nn.Linear(latent_dim, hidden_dim),\n",
        "            nn.Tanh(),\n",
        "            nn.Linear(hidden_dim, hidden_dim),\n",
        "            nn.Tanh(),\n",
        "            nn.Linear(hidden_dim, latent_dim)\n",
        "        )\n",
        "\n",
        "    def forward(self, t, x):\n",
        "        \"\"\"Time derivative of the latent state\"\"\"\n",
        "        return self.net(x)"
      ]
    },
    {
      "cell_type": "code",
      "execution_count": 12,
      "metadata": {
        "id": "AFnU6-xpmkt-"
      },
      "outputs": [],
      "source": [
        "class Encoder(nn.Module):\n",
        "    \"\"\"Encodes the observed data into initial latent state\"\"\"\n",
        "    def __init__(self, input_dim, hidden_dim, latent_dim):\n",
        "        super(Encoder, self).__init__()\n",
        "        self.lstm = nn.LSTM(input_dim, hidden_dim, batch_first=True)\n",
        "        self.linear = nn.Linear(hidden_dim, latent_dim * 2)  # For mean and logvar\n",
        "\n",
        "    def forward(self, x, time):\n",
        "        \"\"\"\n",
        "        x: [batch_size, seq_len, input_dim]\n",
        "        time: [batch_size, seq_len]\n",
        "        \"\"\"\n",
        "        # Sort by time\n",
        "        _, indices = torch.sort(time, dim=1)\n",
        "        batch_size, seq_len = x.size(0), x.size(1)\n",
        "        sorted_indices = indices.unsqueeze(-1).expand(-1, -1, x.size(-1))\n",
        "        x_sorted = torch.gather(x, 1, sorted_indices)\n",
        "\n",
        "        h, _ = self.lstm(x_sorted)\n",
        "        h = h[:, -1, :]  # Take the last hidden state\n",
        "\n",
        "        params = self.linear(h)\n",
        "        mean, logvar = torch.chunk(params, 2, dim=1)\n",
        "\n",
        "        # Reparameterization trick\n",
        "        std = torch.exp(0.5 * logvar)\n",
        "        eps = torch.randn_like(std)\n",
        "        z0 = mean + eps * std\n",
        "\n",
        "        return z0, mean, logvar\n"
      ]
    },
    {
      "cell_type": "code",
      "execution_count": 13,
      "metadata": {
        "id": "D3RiPH84mmc2"
      },
      "outputs": [],
      "source": [
        "\n",
        "class Decoder(nn.Module):\n",
        "    \"\"\"Decodes the latent state into observed data\"\"\"\n",
        "    def __init__(self, latent_dim, hidden_dim, output_dim):\n",
        "        super(Decoder, self).__init__()\n",
        "        self.net = nn.Sequential(\n",
        "            nn.Linear(latent_dim, hidden_dim),\n",
        "            nn.ReLU(),\n",
        "            nn.Linear(hidden_dim, hidden_dim),\n",
        "            nn.ReLU(),\n",
        "            nn.Linear(hidden_dim, output_dim)\n",
        "        )\n",
        "\n",
        "    def forward(self, z):\n",
        "        \"\"\"\n",
        "        z: [batch_size, seq_len, latent_dim]\n",
        "        \"\"\"\n",
        "        return self.net(z)\n"
      ]
    },
    {
      "cell_type": "code",
      "execution_count": 14,
      "metadata": {
        "id": "-Gb4GBvomoBe"
      },
      "outputs": [],
      "source": [
        "class LatentODE(nn.Module):\n",
        "    \"\"\"Complete Latent ODE model\"\"\"\n",
        "    def __init__(self, input_dim, latent_dim, hidden_dim, device):\n",
        "        super(LatentODE, self).__init__()\n",
        "        self.encoder = Encoder(input_dim, hidden_dim, latent_dim)\n",
        "        self.func = LatentODEFunc(latent_dim, hidden_dim)\n",
        "        self.decoder = Decoder(latent_dim, hidden_dim, input_dim)\n",
        "        self.latent_dim = latent_dim\n",
        "        self.device = device\n",
        "\n",
        "    def forward(self, x, time_points, target_time_points):\n",
        "        \"\"\"\n",
        "        x: [batch_size, seq_len, input_dim]\n",
        "        time_points: [batch_size, seq_len]\n",
        "        target_time_points: times to evaluate the ODE at\n",
        "        \"\"\"\n",
        "        batch_size = x.size(0)\n",
        "\n",
        "        # Get initial latent state\n",
        "        z0, mean, logvar = self.encoder(x, time_points)\n",
        "\n",
        "        # Integrate the ODE\n",
        "        target_time_points = target_time_points.to(self.device)\n",
        "        z = odeint(self.func, z0, target_time_points)\n",
        "        z = z.permute(1, 0, 2)  # [batch_size, seq_len, latent_dim]\n",
        "\n",
        "        # Decode\n",
        "        x_pred = self.decoder(z)\n",
        "\n",
        "        return x_pred, mean, logvar\n"
      ]
    },
    {
      "cell_type": "code",
      "execution_count": 15,
      "metadata": {
        "id": "2Sw5aj7bmprW"
      },
      "outputs": [],
      "source": [
        "# Model hyperparameters\n",
        "input_dim = 3  # tx, ty, tz\n",
        "latent_dim = 4\n",
        "hidden_dim = 128\n",
        "batch_size = 176\n",
        "epochs = 2000\n",
        "lr = 0.01"
      ]
    },
    {
      "cell_type": "code",
      "execution_count": 16,
      "metadata": {
        "id": "Qj1mW4qGmrMw"
      },
      "outputs": [],
      "source": [
        "# Reshape for batched training (we'll use a batch size of 1 since we have one trajectory)\n",
        "complete_dataset = TensorDataset(\n",
        "    complete_features_tensor.unsqueeze(0),\n",
        "    complete_time_tensor.unsqueeze(0)\n",
        ")\n",
        "complete_loader = DataLoader(complete_dataset, batch_size=1, shuffle=False)\n"
      ]
    },
    {
      "cell_type": "code",
      "execution_count": 17,
      "metadata": {
        "id": "qfsIxoiEmtqe"
      },
      "outputs": [],
      "source": [
        "# Create and train the model\n",
        "model = LatentODE(input_dim, latent_dim, hidden_dim, device).to(device)\n",
        "optimizer = optim.Adam(model.parameters(), lr=lr)\n"
      ]
    },
    {
      "cell_type": "code",
      "execution_count": 18,
      "metadata": {
        "id": "fT6hUN5OmuFO"
      },
      "outputs": [],
      "source": [
        "def loss_fn(pred, target, mean, logvar, mask=None):\n",
        "    \"\"\"\n",
        "    Loss function with reconstruction loss and KL divergence\n",
        "    \"\"\"\n",
        "    if mask is None:\n",
        "        mask = torch.ones_like(target)\n",
        "\n",
        "    # MSE reconstruction loss\n",
        "    recon_loss = torch.sum(mask.unsqueeze(-1) * (pred - target)**2) / torch.sum(mask.unsqueeze(-1))\n",
        "\n",
        "    # KL divergence\n",
        "    kl_loss = -0.5 * torch.mean(1 + logvar - mean.pow(2) - logvar.exp())\n",
        "\n",
        "    return recon_loss + 0.1 * kl_loss, recon_loss, kl_loss\n"
      ]
    },
    {
      "cell_type": "code",
      "execution_count": 19,
      "metadata": {
        "id": "tOiP5Khpmvdi"
      },
      "outputs": [
        {
          "name": "stdout",
          "output_type": "stream",
          "text": [
            "Starting training...\n",
            "Epoch 20/2000, Loss: 0.354369\n",
            "Epoch 40/2000, Loss: 0.277112\n",
            "Epoch 60/2000, Loss: 0.254713\n",
            "Epoch 80/2000, Loss: 0.253171\n",
            "Epoch 100/2000, Loss: 0.263358\n",
            "Epoch 120/2000, Loss: 0.252749\n",
            "Epoch 140/2000, Loss: 0.267971\n",
            "Epoch 160/2000, Loss: 0.270225\n",
            "Epoch 180/2000, Loss: 0.262308\n",
            "Epoch 200/2000, Loss: 0.245598\n",
            "Epoch 220/2000, Loss: 0.240685\n",
            "Epoch 240/2000, Loss: 0.239646\n",
            "Epoch 260/2000, Loss: 0.250753\n",
            "Epoch 280/2000, Loss: 0.274366\n",
            "Epoch 300/2000, Loss: 0.244240\n",
            "Epoch 320/2000, Loss: 0.264980\n",
            "Epoch 340/2000, Loss: 0.244081\n",
            "Epoch 360/2000, Loss: 0.220334\n",
            "Epoch 380/2000, Loss: 0.254706\n",
            "Epoch 400/2000, Loss: 0.249645\n",
            "Epoch 420/2000, Loss: 0.224444\n",
            "Epoch 440/2000, Loss: 0.222957\n",
            "Epoch 460/2000, Loss: 0.269666\n",
            "Epoch 480/2000, Loss: 0.318957\n",
            "Epoch 500/2000, Loss: 0.263182\n",
            "Epoch 520/2000, Loss: 0.256110\n",
            "Epoch 540/2000, Loss: 0.222583\n",
            "Epoch 560/2000, Loss: 0.229835\n",
            "Epoch 580/2000, Loss: 0.210896\n",
            "Epoch 600/2000, Loss: 0.288552\n",
            "Epoch 620/2000, Loss: 0.213817\n",
            "Epoch 640/2000, Loss: 0.220137\n",
            "Epoch 660/2000, Loss: 0.253619\n",
            "Epoch 680/2000, Loss: 0.208169\n",
            "Epoch 700/2000, Loss: 0.187901\n",
            "Epoch 720/2000, Loss: 0.206730\n",
            "Epoch 740/2000, Loss: 0.169028\n",
            "Epoch 760/2000, Loss: 0.159689\n",
            "Epoch 780/2000, Loss: 0.269933\n",
            "Epoch 800/2000, Loss: 0.215998\n",
            "Epoch 820/2000, Loss: 0.115686\n",
            "Epoch 840/2000, Loss: 0.258528\n",
            "Epoch 860/2000, Loss: 0.213483\n",
            "Epoch 880/2000, Loss: 0.218451\n",
            "Epoch 900/2000, Loss: 0.181947\n",
            "Epoch 920/2000, Loss: 0.143405\n",
            "Epoch 940/2000, Loss: 0.202810\n",
            "Epoch 960/2000, Loss: 0.181034\n",
            "Epoch 980/2000, Loss: 0.235238\n",
            "Epoch 1000/2000, Loss: 0.177788\n",
            "Epoch 1020/2000, Loss: 0.196719\n",
            "Epoch 1040/2000, Loss: 0.252924\n",
            "Epoch 1060/2000, Loss: 0.199217\n",
            "Epoch 1080/2000, Loss: 0.259089\n",
            "Epoch 1100/2000, Loss: 0.165412\n",
            "Epoch 1120/2000, Loss: 0.150901\n",
            "Epoch 1140/2000, Loss: 0.127891\n",
            "Epoch 1160/2000, Loss: 0.170145\n",
            "Epoch 1180/2000, Loss: 0.074058\n",
            "Epoch 1200/2000, Loss: 0.110577\n",
            "Epoch 1220/2000, Loss: 0.048230\n",
            "Epoch 1240/2000, Loss: 0.084282\n",
            "Epoch 1260/2000, Loss: 0.167028\n",
            "Epoch 1280/2000, Loss: 0.088382\n",
            "Epoch 1300/2000, Loss: 0.045258\n",
            "Epoch 1320/2000, Loss: 0.102923\n",
            "Epoch 1340/2000, Loss: 0.173312\n",
            "Epoch 1360/2000, Loss: 0.110094\n",
            "Epoch 1380/2000, Loss: 0.076976\n",
            "Epoch 1400/2000, Loss: 0.247812\n",
            "Epoch 1420/2000, Loss: 0.134081\n",
            "Epoch 1440/2000, Loss: 0.080651\n",
            "Epoch 1460/2000, Loss: 0.050242\n",
            "Epoch 1480/2000, Loss: 0.164708\n",
            "Epoch 1500/2000, Loss: 0.098713\n",
            "Epoch 1520/2000, Loss: 0.030433\n",
            "Epoch 1540/2000, Loss: 0.126488\n",
            "Epoch 1560/2000, Loss: 0.085415\n",
            "Epoch 1580/2000, Loss: 0.078367\n",
            "Epoch 1600/2000, Loss: 0.108858\n",
            "Epoch 1620/2000, Loss: 0.074106\n",
            "Epoch 1640/2000, Loss: 0.101404\n",
            "Epoch 1660/2000, Loss: 0.068832\n",
            "Epoch 1680/2000, Loss: 0.047523\n",
            "Epoch 1700/2000, Loss: 0.127649\n",
            "Epoch 1720/2000, Loss: 0.068164\n",
            "Epoch 1740/2000, Loss: 0.133140\n",
            "Epoch 1760/2000, Loss: 0.078161\n",
            "Epoch 1780/2000, Loss: 0.080492\n",
            "Epoch 1800/2000, Loss: 0.054368\n",
            "Epoch 1820/2000, Loss: 0.169630\n",
            "Epoch 1840/2000, Loss: 0.060552\n",
            "Epoch 1860/2000, Loss: 0.131257\n",
            "Epoch 1880/2000, Loss: 0.073977\n",
            "Epoch 1900/2000, Loss: 0.090376\n",
            "Epoch 1920/2000, Loss: 0.032949\n",
            "Epoch 1940/2000, Loss: 0.035473\n",
            "Epoch 1960/2000, Loss: 0.035608\n",
            "Epoch 1980/2000, Loss: 0.056115\n",
            "Epoch 2000/2000, Loss: 0.038368\n",
            "Training completed!\n"
          ]
        }
      ],
      "source": [
        "# Training loop\n",
        "print(\"Starting training...\")\n",
        "losses = []\n",
        "\n",
        "for epoch in range(epochs):\n",
        "    model.train()\n",
        "    epoch_loss = 0.0\n",
        "\n",
        "    for batch_idx, (x_batch, t_batch) in enumerate(complete_loader):\n",
        "        x_batch = x_batch.to(device)\n",
        "        t_batch = t_batch.to(device)\n",
        "\n",
        "        optimizer.zero_grad()\n",
        "\n",
        "        # Forward pass\n",
        "        x_pred, mean, logvar = model(x_batch, t_batch, complete_time_tensor.to(device))\n",
        "\n",
        "        # Compute loss\n",
        "        loss, recon_loss, kl_loss = loss_fn(x_pred, x_batch, mean, logvar, observed_mask_tensor.to(device))\n",
        "\n",
        "        # Backward pass\n",
        "        loss.backward()\n",
        "        optimizer.step()\n",
        "\n",
        "        epoch_loss += loss.item()\n",
        "\n",
        "    avg_loss = epoch_loss / len(complete_loader)\n",
        "    losses.append(avg_loss)\n",
        "\n",
        "    if (epoch + 1) % 20 == 0:\n",
        "        print(f\"Epoch {epoch+1}/{epochs}, Loss: {avg_loss:.6f}\")\n",
        "\n",
        "print(\"Training completed!\")"
      ]
    },
    {
      "cell_type": "code",
      "execution_count": 20,
      "metadata": {
        "id": "3j70DJiHmyhd"
      },
      "outputs": [],
      "source": [
        "# Evaluation and visualization\n",
        "model.eval()\n",
        "with torch.no_grad():\n",
        "    x_complete = complete_features_tensor.unsqueeze(0).to(device)\n",
        "    t_complete = complete_time_tensor.unsqueeze(0).to(device)\n",
        "\n",
        "    # Get predictions for all time points\n",
        "    x_pred, _, _ = model(x_complete, t_complete, complete_time_tensor.to(device))\n",
        "\n",
        "    # Move predictions back to CPU and convert to numpy\n",
        "    x_pred = x_pred.squeeze(0).cpu().numpy()\n",
        "\n",
        "    # Inverse transform to get the original scale\n",
        "    x_pred_original = feature_scaler.inverse_transform(x_pred)\n"
      ]
    },
    {
      "cell_type": "code",
      "execution_count": 21,
      "metadata": {
        "id": "_gO8R35xm3Ou"
      },
      "outputs": [],
      "source": [
        "# Compare the reconstructed trajectory with the original\n",
        "plt.figure(figsize=(15, 10))\n",
        "features = ['tx', 'ty', 'tz']\n",
        "\n",
        "for i in range(3):\n",
        "    plt.subplot(3, 1, i+1)\n",
        "\n",
        "    # Original complete data\n",
        "    plt.plot(complete_time, complete_features[:, i], 'b-', label='Original Complete')\n",
        "\n",
        "    # Incomplete data points\n",
        "    plt.plot(incomplete_time, incomplete_features[:, i], 'ro', markersize=4, label='Observed (Incomplete)')\n",
        "\n",
        "    # Reconstructed trajectory\n",
        "    plt.plot(complete_time, x_pred_original[:, i], 'g--', label='Reconstructed')\n",
        "\n",
        "    plt.title(f'Feature: {features[i]}')\n",
        "    plt.xlabel('Time')\n",
        "    plt.ylabel(features[i])\n",
        "    plt.legend()\n",
        "\n",
        "plt.tight_layout()\n",
        "plt.savefig('uav_trajectory_reconstruction.png')\n",
        "plt.close()"
      ]
    },
    {
      "cell_type": "code",
      "execution_count": 22,
      "metadata": {
        "id": "DlmzHeD6m6S3"
      },
      "outputs": [
        {
          "name": "stdout",
          "output_type": "stream",
          "text": [
            "Missing points reconstruction - MSE: 0.489325, MAE: 0.460349\n"
          ]
        }
      ],
      "source": [
        "# Calculate reconstruction error\n",
        "# First, find indices that exist in complete dataset but not in incomplete\n",
        "missing_indices = np.where(observed_mask == 0)[0]\n",
        "missing_original = complete_features[missing_indices]\n",
        "missing_reconstructed = x_pred_original[missing_indices]\n",
        "\n",
        "mse = np.mean((missing_original - missing_reconstructed) ** 2)\n",
        "mae = np.mean(np.abs(missing_original - missing_reconstructed))\n",
        "\n",
        "print(f\"Missing points reconstruction - MSE: {mse:.6f}, MAE: {mae:.6f}\")\n"
      ]
    },
    {
      "cell_type": "code",
      "execution_count": 23,
      "metadata": {
        "id": "6siX9c3bqsns"
      },
      "outputs": [],
      "source": [
        "import numpy as np\n",
        "from sklearn.metrics import mean_squared_error, r2_score"
      ]
    },
    {
      "cell_type": "code",
      "execution_count": 24,
      "metadata": {
        "id": "68eBET2Zm70J"
      },
      "outputs": [
        {
          "name": "stdout",
          "output_type": "stream",
          "text": [
            "Dimension tx - MSE: 0.800581, MAE: 0.686678\n",
            "Dimension ty - MSE: 0.666080, MAE: 0.663326\n",
            "Dimension tz - MSE: 0.001315, MAE: 0.031043\n"
          ]
        }
      ],
      "source": [
        "# Calculate error metrics for each dimension\n",
        "for i in range(3):\n",
        "    mse_dim = np.mean((missing_original[:, i] - missing_reconstructed[:, i]) ** 2)\n",
        "    mae_dim = np.mean(np.abs(missing_original[:, i] - missing_reconstructed[:, i]))\n",
        "    print(f\"Dimension {features[i]} - MSE: {mse_dim:.6f}, MAE: {mae_dim:.6f}\")\n"
      ]
    },
    {
      "cell_type": "code",
      "execution_count": 25,
      "metadata": {
        "id": "gNZtB846q8DJ"
      },
      "outputs": [],
      "source": [
        "y_true_missing = missing_original\n",
        "y_pred_missing = missing_reconstructed\n",
        "\n",
        "# Dữ liệu thực tế và dự đoán trên toàn bộ quỹ đạo\n",
        "y_true_all = complete_features\n",
        "y_pred_all = x_pred_original"
      ]
    },
    {
      "cell_type": "code",
      "execution_count": 26,
      "metadata": {
        "id": "RAT5fzgcrVWI"
      },
      "outputs": [
        {
          "name": "stdout",
          "output_type": "stream",
          "text": [
            "\n",
            "Tổng R^2 (trên điểm bị thiếu, trung bình các chiều): 0.829930\n",
            "R^2 cho chiều tx (trên điểm bị thiếu): 0.879571\n",
            "R^2 cho chiều ty (trên điểm bị thiếu): 0.923255\n",
            "R^2 cho chiều tz (trên điểm bị thiếu): 0.686964\n"
          ]
        }
      ],
      "source": [
        "# --- 2. R-squared (R^2) ---\n",
        "if y_true_missing.shape[0] > 0:\n",
        "    r2_total_missing = r2_score(y_true_missing, y_pred_missing, multioutput='uniform_average') # Tính R^2 trung bình cho các chiều\n",
        "    print(f\"\\nTổng R^2 (trên điểm bị thiếu, trung bình các chiều): {r2_total_missing:.6f}\")\n",
        "\n",
        "    for i in range(y_true_missing.shape[1]):\n",
        "        # Kiểm tra để tránh lỗi nếu một chiều có phương sai bằng 0 (ít xảy ra với dữ liệu thực)\n",
        "        if np.var(y_true_missing[:, i]) == 0 and np.var(y_pred_missing[:, i]) == 0 and np.mean(y_true_missing[:, i]) == np.mean(y_pred_missing[:, i]):\n",
        "            r2_dim_missing = 1.0 # Dự đoán hoàn hảo cho một hằng số\n",
        "        elif np.var(y_true_missing[:, i]) == 0:\n",
        "             r2_dim_missing = 0.0 # Không thể giải thích phương sai nếu không có phương sai\n",
        "        else:\n",
        "            r2_dim_missing = r2_score(y_true_missing[:, i], y_pred_missing[:, i])\n",
        "        print(f\"R^2 cho chiều {features[i]} (trên điểm bị thiếu): {r2_dim_missing:.6f}\")\n",
        "else:\n",
        "    print(\"\\nKhông có điểm dữ liệu nào bị thiếu để tính R^2.\")"
      ]
    },
    {
      "cell_type": "code",
      "execution_count": 27,
      "metadata": {
        "id": "TA5S5Gi7rfIi"
      },
      "outputs": [],
      "source": [
        "# --- 4. Directional Accuracy (DA) ---\n",
        "def directional_accuracy_func(y_true_da, y_pred_da):\n",
        "    y_true_da, y_pred_da = np.asarray(y_true_da), np.asarray(y_pred_da)\n",
        "    if len(y_true_da) < 2:\n",
        "        return np.nan # Cần ít nhất 2 điểm để so sánh hướng\n",
        "\n",
        "    true_diff = np.diff(y_true_da)\n",
        "    pred_diff = np.diff(y_pred_da)\n",
        "\n",
        "    true_direction = np.sign(true_diff)\n",
        "    pred_direction = np.sign(pred_diff)\n",
        "\n",
        "    # Xử lý trường hợp cả hai diff đều là 0 (không đổi hướng) là một dự đoán đúng\n",
        "    correct_direction = (true_direction == pred_direction)\n",
        "    return np.mean(correct_direction) * 100"
      ]
    },
    {
      "cell_type": "code",
      "execution_count": 28,
      "metadata": {
        "id": "uOrOAXT8rces"
      },
      "outputs": [
        {
          "name": "stdout",
          "output_type": "stream",
          "text": [
            "\n",
            "--- Directional Accuracy (trên các điểm bị thiếu, nếu theo thứ tự thời gian) ---\n",
            "DA cho chiều tx (trên điểm bị thiếu): 88.37%\n",
            "DA cho chiều ty (trên điểm bị thiếu): 95.35%\n",
            "DA cho chiều tz (trên điểm bị thiếu): 74.42%\n",
            "DA trung bình tổng thể (trên điểm bị thiếu, cho các chiều tính được): 86.05%\n"
          ]
        }
      ],
      "source": [
        "print(\"\\n--- Directional Accuracy (trên các điểm bị thiếu, nếu theo thứ tự thời gian) ---\")\n",
        "# Lưu ý: DA trên các điểm bị thiếu chỉ có ý nghĩa nếu các điểm đó được sắp xếp theo thời gian\n",
        "# và tạo thành một chuỗi có thể phân tích hướng.\n",
        "if y_true_missing.shape[0] >= 2:\n",
        "    da_missing_list = []\n",
        "    for i in range(y_true_missing.shape[1]):\n",
        "        da_dim_missing = directional_accuracy_func(y_true_missing[:, i], y_pred_missing[:, i])\n",
        "        if not np.isnan(da_dim_missing):\n",
        "            da_missing_list.append(da_dim_missing)\n",
        "        print(f\"DA cho chiều {features[i]} (trên điểm bị thiếu): {da_dim_missing:.2f}%\" if not np.isnan(da_dim_missing) else f\"DA cho chiều {features[i]} (trên điểm bị thiếu): Không đủ dữ liệu\")\n",
        "\n",
        "    if da_missing_list:\n",
        "        print(f\"DA trung bình tổng thể (trên điểm bị thiếu, cho các chiều tính được): {np.mean(da_missing_list):.2f}%\")\n",
        "    else:\n",
        "        print(\"DA trung bình tổng thể (trên điểm bị thiếu): Không thể tính.\")\n",
        "else:\n",
        "    print(\"Không đủ điểm dữ liệu bị thiếu để tính Directional Accuracy.\")"
      ]
    },
    {
      "cell_type": "code",
      "execution_count": 29,
      "metadata": {
        "id": "My_HpyTcrn-g"
      },
      "outputs": [
        {
          "name": "stdout",
          "output_type": "stream",
          "text": [
            "\n",
            "Tổng R^2 (toàn bộ quỹ đạo, trung bình các chiều): 0.844198\n",
            "R^2 cho chiều tx (toàn bộ quỹ đạo): 0.893693\n",
            "R^2 cho chiều ty (toàn bộ quỹ đạo): 0.930841\n",
            "R^2 cho chiều tz (toàn bộ quỹ đạo): 0.708061\n"
          ]
        }
      ],
      "source": [
        "# --- R-squared (R^2) trên toàn bộ quỹ đạo ---\n",
        "r2_total_all = r2_score(y_true_all, y_pred_all, multioutput='uniform_average')\n",
        "print(f\"\\nTổng R^2 (toàn bộ quỹ đạo, trung bình các chiều): {r2_total_all:.6f}\")\n",
        "for i in range(y_true_all.shape[1]):\n",
        "    if np.var(y_true_all[:, i]) == 0 and np.var(y_pred_all[:, i]) == 0 and np.mean(y_true_all[:, i]) == np.mean(y_pred_all[:, i]):\n",
        "        r2_dim_all = 1.0\n",
        "    elif np.var(y_true_all[:, i]) == 0:\n",
        "        r2_dim_all = 0.0\n",
        "    else:\n",
        "        r2_dim_all = r2_score(y_true_all[:, i], y_pred_all[:, i])\n",
        "    print(f\"R^2 cho chiều {features[i]} (toàn bộ quỹ đạo): {r2_dim_all:.6f}\")"
      ]
    },
    {
      "cell_type": "code",
      "execution_count": 30,
      "metadata": {
        "id": "g4Tw04J1rqdQ"
      },
      "outputs": [
        {
          "name": "stdout",
          "output_type": "stream",
          "text": [
            "\n",
            "--- Directional Accuracy (toàn bộ quỹ đạo) ---\n",
            "DA cho chiều tx (toàn bộ quỹ đạo): 89.04%\n",
            "DA cho chiều ty (toàn bộ quỹ đạo): 91.78%\n",
            "DA cho chiều tz (toàn bộ quỹ đạo): 68.49%\n",
            "DA trung bình tổng thể (toàn bộ quỹ đạo, cho các chiều tính được): 83.11%\n"
          ]
        }
      ],
      "source": [
        "# --- Directional Accuracy (DA) trên toàn bộ quỹ đạo ---\n",
        "print(\"\\n--- Directional Accuracy (toàn bộ quỹ đạo) ---\")\n",
        "if y_true_all.shape[0] >= 2:\n",
        "    da_all_list = []\n",
        "    for i in range(y_true_all.shape[1]):\n",
        "        da_dim_all = directional_accuracy_func(y_true_all[:, i], y_pred_all[:, i])\n",
        "        if not np.isnan(da_dim_all):\n",
        "            da_all_list.append(da_dim_all)\n",
        "        print(f\"DA cho chiều {features[i]} (toàn bộ quỹ đạo): {da_dim_all:.2f}%\" if not np.isnan(da_dim_all) else f\"DA cho chiều {features[i]} (toàn bộ quỹ đạo): Không đủ dữ liệu\")\n",
        "\n",
        "    if da_all_list:\n",
        "        print(f\"DA trung bình tổng thể (toàn bộ quỹ đạo, cho các chiều tính được): {np.mean(da_all_list):.2f}%\")\n",
        "    else:\n",
        "        print(\"DA trung bình tổng thể (toàn bộ quỹ đạo): Không thể tính.\")\n",
        "else:\n",
        "    print(\"Không đủ điểm dữ liệu trên toàn bộ quỹ đạo để tính Directional Accuracy.\")"
      ]
    },
    {
      "cell_type": "code",
      "execution_count": 31,
      "metadata": {
        "id": "mbi3xGYvr66Z"
      },
      "outputs": [],
      "source": [
        "# --- 3. Mean Absolute Percentage Error (MAPE) ---\n",
        "def mape_func(y_true_m, y_pred_m, epsilon=1e-8): # Thêm epsilon để tránh chia cho 0 tuyệt đối\n",
        "    y_true_m, y_pred_m = np.asarray(y_true_m), np.asarray(y_pred_m)\n",
        "\n",
        "    # Xử lý trường hợp y_true_m bằng 0\n",
        "    # Ở đây, chúng ta sẽ chỉ tính MAPE cho các điểm mà y_true_m khác 0.\n",
        "    # Hoặc có thể thay thế y_true_m == 0 bằng một giá trị rất nhỏ (epsilon) nếu muốn bao gồm chúng\n",
        "    # nhưng điều này có thể làm MAPE rất lớn nếu y_pred_m khác biệt đáng kể.\n",
        "\n",
        "    mask = y_true_m != 0\n",
        "    if not np.any(mask): # Nếu tất cả y_true_m đều bằng 0 (hoặc bị mask hết)\n",
        "         return np.nan # Không thể tính MAPE\n",
        "\n",
        "    # Chỉ tính trên các phần tử không bị mask\n",
        "    y_true_masked = y_true_m[mask]\n",
        "    y_pred_masked = y_pred_m[mask]\n",
        "\n",
        "    # Nếu sau khi mask không còn phần tử nào (trường hợp hiếm nếu ban đầu có dữ liệu)\n",
        "    if y_true_masked.shape[0] == 0:\n",
        "        return np.nan\n",
        "\n",
        "    return np.mean(np.abs((y_true_masked - y_pred_masked) / y_true_masked)) * 100"
      ]
    },
    {
      "cell_type": "code",
      "execution_count": 32,
      "metadata": {
        "id": "PmYGvvE3sDZh"
      },
      "outputs": [
        {
          "name": "stdout",
          "output_type": "stream",
          "text": [
            "\n",
            "MAPE trên toàn bộ quỹ đạo tái tạo:\n",
            "MAPE cho chiều tx (toàn bộ quỹ đạo): 6.68%\n",
            "MAPE cho chiều ty (toàn bộ quỹ đạo): 2.95%\n",
            "MAPE cho chiều tz (toàn bộ quỹ đạo): 0.20%\n",
            "MAPE trung bình tổng thể (toàn bộ quỹ đạo, cho các chiều tính được): 3.28%\n"
          ]
        }
      ],
      "source": [
        "# MAPE trên toàn bộ quỹ đạo tái tạo\n",
        "print(\"\\nMAPE trên toàn bộ quỹ đạo tái tạo:\")\n",
        "if y_true_all.shape[0] > 0:\n",
        "    mape_all_list = []\n",
        "    for i in range(y_true_all.shape[1]):\n",
        "        mape_dim_all = mape_func(y_true_all[:, i], y_pred_all[:, i])\n",
        "        if not np.isnan(mape_dim_all):\n",
        "            mape_all_list.append(mape_dim_all)\n",
        "        print(f\"MAPE cho chiều {features[i]} (toàn bộ quỹ đạo): {mape_dim_all:.2f}%\" if not np.isnan(mape_dim_all) else f\"MAPE cho chiều {features[i]} (toàn bộ quỹ đạo): Không thể tính (y_true có thể chứa giá trị 0)\")\n",
        "\n",
        "    if mape_all_list:\n",
        "        print(f\"MAPE trung bình tổng thể (toàn bộ quỹ đạo, cho các chiều tính được): {np.mean(mape_all_list):.2f}%\")\n",
        "    else:\n",
        "        print(\"MAPE trung bình tổng thể (toàn bộ quỹ đạo): Không thể tính.\")\n",
        "else:\n",
        "    print(\"Không có dữ liệu trên toàn bộ quỹ đạo để tính MAPE.\")"
      ]
    },
    {
      "cell_type": "code",
      "execution_count": 33,
      "metadata": {
        "id": "GWqrzViXsAMZ"
      },
      "outputs": [
        {
          "name": "stdout",
          "output_type": "stream",
          "text": [
            "\n",
            "MAPE trên các điểm bị thiếu:\n",
            "MAPE cho chiều tx (trên điểm bị thiếu): 6.63%\n",
            "MAPE cho chiều ty (trên điểm bị thiếu): 2.98%\n",
            "MAPE cho chiều tz (trên điểm bị thiếu): 0.24%\n",
            "MAPE trung bình tổng thể (trên điểm bị thiếu, cho các chiều tính được): 3.28%\n"
          ]
        }
      ],
      "source": [
        "# MAPE trên các điểm bị thiếu\n",
        "print(\"\\nMAPE trên các điểm bị thiếu:\")\n",
        "if y_true_missing.shape[0] > 0:\n",
        "    mape_missing_list = []\n",
        "    for i in range(y_true_missing.shape[1]):\n",
        "        mape_dim_missing = mape_func(y_true_missing[:, i], y_pred_missing[:, i])\n",
        "        if not np.isnan(mape_dim_missing):\n",
        "            mape_missing_list.append(mape_dim_missing)\n",
        "        print(f\"MAPE cho chiều {features[i]} (trên điểm bị thiếu): {mape_dim_missing:.2f}%\" if not np.isnan(mape_dim_missing) else f\"MAPE cho chiều {features[i]} (trên điểm bị thiếu): Không thể tính (y_true có thể chứa giá trị 0 hoặc không có điểm)\")\n",
        "\n",
        "    if mape_missing_list:\n",
        "        print(f\"MAPE trung bình tổng thể (trên điểm bị thiếu, cho các chiều tính được): {np.mean(mape_missing_list):.2f}%\")\n",
        "    else:\n",
        "        print(\"MAPE trung bình tổng thể (trên điểm bị thiếu): Không thể tính.\")\n",
        "else:\n",
        "    print(\"Không có điểm dữ liệu nào bị thiếu để tính MAPE.\")"
      ]
    },
    {
      "cell_type": "code",
      "execution_count": 34,
      "metadata": {
        "id": "9L87Eodxm9i_"
      },
      "outputs": [],
      "source": [
        "# Create a more detailed comparison plot for missing points\n",
        "plt.figure(figsize=(15, 10))\n",
        "for i in range(3):\n",
        "    plt.subplot(3, 1, i+1)\n",
        "\n",
        "    # Original values at missing points\n",
        "    plt.plot(complete_time[missing_indices], missing_original[:, i], 'bx', markersize=6, label='Original (Missing)')\n",
        "\n",
        "    # Reconstructed values at missing points\n",
        "    plt.plot(complete_time[missing_indices], missing_reconstructed[:, i], 'go', markersize=4, label='Reconstructed')\n",
        "\n",
        "    plt.title(f'Reconstruction of Missing Points: {features[i]}')\n",
        "    plt.xlabel('Time')\n",
        "    plt.ylabel(features[i])\n",
        "    plt.legend()\n",
        "\n",
        "plt.tight_layout()\n",
        "plt.savefig('missing_points_comparison.png')\n",
        "plt.close()"
      ]
    },
    {
      "cell_type": "code",
      "execution_count": 35,
      "metadata": {
        "id": "6djiThoim-Me"
      },
      "outputs": [],
      "source": [
        "# Plot training loss\n",
        "plt.figure(figsize=(10, 6))\n",
        "plt.plot(range(1, len(losses) + 1), losses)\n",
        "plt.title('Training Loss')\n",
        "plt.xlabel('Epoch')\n",
        "plt.ylabel('Loss')\n",
        "plt.grid(True)\n",
        "plt.savefig('training_loss.png')\n",
        "plt.close()\n"
      ]
    },
    {
      "cell_type": "code",
      "execution_count": 36,
      "metadata": {
        "id": "ijDeLTp7nBIm"
      },
      "outputs": [],
      "source": [
        "# 3D trajectory visualization\n",
        "fig = plt.figure(figsize=(10, 8))\n",
        "ax = fig.add_subplot(111, projection='3d')\n",
        "\n",
        "# Original complete trajectory\n",
        "ax.plot3D(complete_features[:, 0], complete_features[:, 1], complete_features[:, 2],\n",
        "         'b-', linewidth=1, label='Original Complete')\n",
        "\n",
        "# Observed points\n",
        "ax.scatter(incomplete_features[:, 0], incomplete_features[:, 1], incomplete_features[:, 2],\n",
        "          c='r', s=30, label='Observed Points')\n",
        "\n",
        "# Reconstructed trajectory\n",
        "ax.plot3D(x_pred_original[:, 0], x_pred_original[:, 1], x_pred_original[:, 2],\n",
        "         'g--', linewidth=2, label='Reconstructed')\n",
        "\n",
        "ax.set_xlabel('tx')\n",
        "ax.set_ylabel('ty')\n",
        "ax.set_zlabel('tz')\n",
        "ax.set_title('UAV 3D Trajectory Reconstruction')\n",
        "ax.legend()\n",
        "\n",
        "plt.tight_layout()\n",
        "plt.savefig('uav_3d_trajectory.png')\n",
        "plt.close()"
      ]
    },
    {
      "cell_type": "code",
      "execution_count": 37,
      "metadata": {
        "id": "6Uk5X2O5nC8m"
      },
      "outputs": [
        {
          "name": "stdout",
          "output_type": "stream",
          "text": [
            "Reconstructed trajectory saved to 'uav_reconstructed_trajectory.csv'\n"
          ]
        }
      ],
      "source": [
        "# Save the reconstructed trajectory to CSV\n",
        "reconstructed_df = pd.DataFrame({\n",
        "    'timestamp': complete_time,\n",
        "    'tx': x_pred_original[:, 0],\n",
        "    'ty': x_pred_original[:, 1],\n",
        "    'tz': x_pred_original[:, 2]\n",
        "})\n",
        "reconstructed_df.to_csv('uav_reconstructed_trajectory.csv', index=False)\n",
        "print(\"Reconstructed trajectory saved to 'uav_reconstructed_trajectory.csv'\")"
      ]
    }
  ],
  "metadata": {
    "accelerator": "GPU",
    "colab": {
      "gpuType": "T4",
      "provenance": []
    },
    "kernelspec": {
      "display_name": "Pytorch",
      "language": "python",
      "name": "python3"
    },
    "language_info": {
      "codemirror_mode": {
        "name": "ipython",
        "version": 3
      },
      "file_extension": ".py",
      "mimetype": "text/x-python",
      "name": "python",
      "nbconvert_exporter": "python",
      "pygments_lexer": "ipython3",
      "version": "3.10.12"
    }
  },
  "nbformat": 4,
  "nbformat_minor": 0
}
