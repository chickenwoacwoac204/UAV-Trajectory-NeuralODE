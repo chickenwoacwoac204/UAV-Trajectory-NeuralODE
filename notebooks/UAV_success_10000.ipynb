{
  "cells": [
    {
      "cell_type": "code",
      "execution_count": 1,
      "metadata": {
        "colab": {
          "base_uri": "https://localhost:8080/",
          "height": 383
        },
        "id": "7vAQNh2Lky7b",
        "outputId": "8e7f5e41-8b8b-4a6e-c88d-ad4a5063dd3c"
      },
      "outputs": [
        {
          "ename": "ModuleNotFoundError",
          "evalue": "No module named 'torchdiffeq'",
          "output_type": "error",
          "traceback": [
            "\u001b[0;31m---------------------------------------------------------------------------\u001b[0m",
            "\u001b[0;31mModuleNotFoundError\u001b[0m                       Traceback (most recent call last)",
            "\u001b[0;32m<ipython-input-1-88a490a0d13c>\u001b[0m in \u001b[0;36m<cell line: 0>\u001b[0;34m()\u001b[0m\n\u001b[1;32m      6\u001b[0m \u001b[0;32mimport\u001b[0m \u001b[0mpandas\u001b[0m \u001b[0;32mas\u001b[0m \u001b[0mpd\u001b[0m\u001b[0;34m\u001b[0m\u001b[0;34m\u001b[0m\u001b[0m\n\u001b[1;32m      7\u001b[0m \u001b[0;32mimport\u001b[0m \u001b[0mmatplotlib\u001b[0m\u001b[0;34m.\u001b[0m\u001b[0mpyplot\u001b[0m \u001b[0;32mas\u001b[0m \u001b[0mplt\u001b[0m\u001b[0;34m\u001b[0m\u001b[0;34m\u001b[0m\u001b[0m\n\u001b[0;32m----> 8\u001b[0;31m \u001b[0;32mfrom\u001b[0m \u001b[0mtorchdiffeq\u001b[0m \u001b[0;32mimport\u001b[0m \u001b[0modeint\u001b[0m\u001b[0;34m\u001b[0m\u001b[0;34m\u001b[0m\u001b[0m\n\u001b[0m\u001b[1;32m      9\u001b[0m \u001b[0;32mfrom\u001b[0m \u001b[0mtorch\u001b[0m\u001b[0;34m.\u001b[0m\u001b[0mutils\u001b[0m\u001b[0;34m.\u001b[0m\u001b[0mdata\u001b[0m \u001b[0;32mimport\u001b[0m \u001b[0mDataLoader\u001b[0m\u001b[0;34m,\u001b[0m \u001b[0mTensorDataset\u001b[0m\u001b[0;34m\u001b[0m\u001b[0;34m\u001b[0m\u001b[0m\n\u001b[1;32m     10\u001b[0m \u001b[0;32mfrom\u001b[0m \u001b[0msklearn\u001b[0m\u001b[0;34m.\u001b[0m\u001b[0mpreprocessing\u001b[0m \u001b[0;32mimport\u001b[0m \u001b[0mMinMaxScaler\u001b[0m\u001b[0;34m\u001b[0m\u001b[0;34m\u001b[0m\u001b[0m\n",
            "\u001b[0;31mModuleNotFoundError\u001b[0m: No module named 'torchdiffeq'",
            "",
            "\u001b[0;31m---------------------------------------------------------------------------\u001b[0;32m\nNOTE: If your import is failing due to a missing package, you can\nmanually install dependencies using either !pip or !apt.\n\nTo view examples of installing some common dependencies, click the\n\"Open Examples\" button below.\n\u001b[0;31m---------------------------------------------------------------------------\u001b[0m\n"
          ]
        }
      ],
      "source": [
        "import torch\n",
        "import torch.nn as nn\n",
        "import torch.optim as optim\n",
        "import torch.nn.functional as F\n",
        "import numpy as np\n",
        "import pandas as pd\n",
        "import matplotlib.pyplot as plt\n",
        "from torchdiffeq import odeint\n",
        "from torch.utils.data import DataLoader, TensorDataset\n",
        "from sklearn.preprocessing import MinMaxScaler"
      ]
    },
    {
      "cell_type": "code",
      "execution_count": null,
      "metadata": {
        "id": "aAKjrZi8lGlo"
      },
      "outputs": [],
      "source": [
        "# Set device\n",
        "device = torch.device(\"cuda\" if torch.cuda.is_available() else \"cpu\")\n",
        "print(f\"Using device: {device}\")"
      ]
    },
    {
      "cell_type": "code",
      "execution_count": null,
      "metadata": {
        "id": "Nf10YeTJl6Xe"
      },
      "outputs": [],
      "source": [
        "# Set random seeds for reproducibility\n",
        "torch.manual_seed(42)\n",
        "np.random.seed(42)"
      ]
    },
    {
      "cell_type": "code",
      "execution_count": null,
      "metadata": {
        "id": "jb1llNPHmE7O"
      },
      "outputs": [],
      "source": [
        "# Load the data\n",
        "complete_data = pd.read_csv('uav_hugging_face.csv')\n",
        "incomplete_data = pd.read_csv('uav_hugging_face_dropped_20.csv')"
      ]
    },
    {
      "cell_type": "code",
      "execution_count": null,
      "metadata": {
        "id": "359WWhUkmNy-"
      },
      "outputs": [],
      "source": [
        "# Extract time and features\n",
        "complete_time = complete_data['timestamp'].values\n",
        "complete_features = complete_data[['tx', 'ty', 'tz']].values\n"
      ]
    },
    {
      "cell_type": "code",
      "execution_count": null,
      "metadata": {
        "id": "9Zdt0XkjmPOe"
      },
      "outputs": [],
      "source": [
        "incomplete_time = incomplete_data['timestamp'].values\n",
        "incomplete_features = incomplete_data[['tx', 'ty', 'tz']].values\n"
      ]
    },
    {
      "cell_type": "code",
      "execution_count": null,
      "metadata": {
        "id": "E8g0cBsMmPJO"
      },
      "outputs": [],
      "source": [
        "# Normalize the time to [0, 1]\n",
        "time_scaler = MinMaxScaler()\n",
        "complete_time_norm = time_scaler.fit_transform(complete_time.reshape(-1, 1)).flatten()\n"
      ]
    },
    {
      "cell_type": "code",
      "execution_count": null,
      "metadata": {
        "id": "-EUnzVwVmeym"
      },
      "outputs": [],
      "source": [
        "# Normalize features\n",
        "feature_scaler = MinMaxScaler()\n",
        "complete_features_norm = feature_scaler.fit_transform(complete_features)\n",
        "incomplete_features_norm = feature_scaler.transform(incomplete_features)\n"
      ]
    },
    {
      "cell_type": "code",
      "execution_count": null,
      "metadata": {
        "id": "4l1YwKaQmgk3"
      },
      "outputs": [],
      "source": [
        "# Create a mask for observed time points in the incomplete dataset\n",
        "observed_mask = np.zeros(len(complete_time))\n",
        "for t in incomplete_time:\n",
        "    idx = np.where(complete_time == t)[0]\n",
        "    if len(idx) > 0:\n",
        "        observed_mask[idx[0]] = 1"
      ]
    },
    {
      "cell_type": "code",
      "execution_count": null,
      "metadata": {
        "id": "NUsBIySVmiNW"
      },
      "outputs": [],
      "source": [
        "# Convert to PyTorch tensors\n",
        "complete_time_tensor = torch.tensor(complete_time_norm, dtype=torch.float32)\n",
        "complete_features_tensor = torch.tensor(complete_features_norm, dtype=torch.float32)\n",
        "incomplete_time_tensor = torch.tensor(time_scaler.transform(incomplete_time.reshape(-1, 1)).flatten(), dtype=torch.float32)\n",
        "incomplete_features_tensor = torch.tensor(incomplete_features_norm, dtype=torch.float32)\n",
        "observed_mask_tensor = torch.tensor(observed_mask, dtype=torch.float32)\n"
      ]
    },
    {
      "cell_type": "code",
      "execution_count": null,
      "metadata": {
        "id": "_2KfUhAYmjVW"
      },
      "outputs": [],
      "source": [
        "# Define the Latent ODE model components\n",
        "class LatentODEFunc(nn.Module):\n",
        "    \"\"\"ODE function for the latent dynamics\"\"\"\n",
        "    def __init__(self, latent_dim, hidden_dim):\n",
        "        super(LatentODEFunc, self).__init__()\n",
        "        self.net = nn.Sequential(\n",
        "            nn.Linear(latent_dim, hidden_dim),\n",
        "            nn.Tanh(),\n",
        "            nn.Linear(hidden_dim, hidden_dim),\n",
        "            nn.Tanh(),\n",
        "            nn.Linear(hidden_dim, latent_dim)\n",
        "        )\n",
        "\n",
        "    def forward(self, t, x):\n",
        "        \"\"\"Time derivative of the latent state\"\"\"\n",
        "        return self.net(x)"
      ]
    },
    {
      "cell_type": "code",
      "execution_count": null,
      "metadata": {
        "id": "AFnU6-xpmkt-"
      },
      "outputs": [],
      "source": [
        "class Encoder(nn.Module):\n",
        "    \"\"\"Encodes the observed data into initial latent state\"\"\"\n",
        "    def __init__(self, input_dim, hidden_dim, latent_dim):\n",
        "        super(Encoder, self).__init__()\n",
        "        self.lstm = nn.LSTM(input_dim, hidden_dim, batch_first=True)\n",
        "        self.linear = nn.Linear(hidden_dim, latent_dim * 2)  # For mean and logvar\n",
        "\n",
        "    def forward(self, x, time):\n",
        "        \"\"\"\n",
        "        x: [batch_size, seq_len, input_dim]\n",
        "        time: [batch_size, seq_len]\n",
        "        \"\"\"\n",
        "        # Sort by time\n",
        "        _, indices = torch.sort(time, dim=1)\n",
        "        batch_size, seq_len = x.size(0), x.size(1)\n",
        "        sorted_indices = indices.unsqueeze(-1).expand(-1, -1, x.size(-1))\n",
        "        x_sorted = torch.gather(x, 1, sorted_indices)\n",
        "\n",
        "        h, _ = self.lstm(x_sorted)\n",
        "        h = h[:, -1, :]  # Take the last hidden state\n",
        "\n",
        "        params = self.linear(h)\n",
        "        mean, logvar = torch.chunk(params, 2, dim=1)\n",
        "\n",
        "        # Reparameterization trick\n",
        "        std = torch.exp(0.5 * logvar)\n",
        "        eps = torch.randn_like(std)\n",
        "        z0 = mean + eps * std\n",
        "\n",
        "        return z0, mean, logvar\n"
      ]
    },
    {
      "cell_type": "code",
      "execution_count": null,
      "metadata": {
        "id": "D3RiPH84mmc2"
      },
      "outputs": [],
      "source": [
        "\n",
        "class Decoder(nn.Module):\n",
        "    \"\"\"Decodes the latent state into observed data\"\"\"\n",
        "    def __init__(self, latent_dim, hidden_dim, output_dim):\n",
        "        super(Decoder, self).__init__()\n",
        "        self.net = nn.Sequential(\n",
        "            nn.Linear(latent_dim, hidden_dim),\n",
        "            nn.ReLU(),\n",
        "            nn.Linear(hidden_dim, hidden_dim),\n",
        "            nn.ReLU(),\n",
        "            nn.Linear(hidden_dim, output_dim)\n",
        "        )\n",
        "\n",
        "    def forward(self, z):\n",
        "        \"\"\"\n",
        "        z: [batch_size, seq_len, latent_dim]\n",
        "        \"\"\"\n",
        "        return self.net(z)\n"
      ]
    },
    {
      "cell_type": "code",
      "execution_count": null,
      "metadata": {
        "id": "-Gb4GBvomoBe"
      },
      "outputs": [],
      "source": [
        "class LatentODE(nn.Module):\n",
        "    \"\"\"Complete Latent ODE model\"\"\"\n",
        "    def __init__(self, input_dim, latent_dim, hidden_dim, device):\n",
        "        super(LatentODE, self).__init__()\n",
        "        self.encoder = Encoder(input_dim, hidden_dim, latent_dim)\n",
        "        self.func = LatentODEFunc(latent_dim, hidden_dim)\n",
        "        self.decoder = Decoder(latent_dim, hidden_dim, input_dim)\n",
        "        self.latent_dim = latent_dim\n",
        "        self.device = device\n",
        "\n",
        "    def forward(self, x, time_points, target_time_points):\n",
        "        \"\"\"\n",
        "        x: [batch_size, seq_len, input_dim]\n",
        "        time_points: [batch_size, seq_len]\n",
        "        target_time_points: times to evaluate the ODE at\n",
        "        \"\"\"\n",
        "        batch_size = x.size(0)\n",
        "\n",
        "        # Get initial latent state\n",
        "        z0, mean, logvar = self.encoder(x, time_points)\n",
        "\n",
        "        # Integrate the ODE\n",
        "        target_time_points = target_time_points.to(self.device)\n",
        "        z = odeint(self.func, z0, target_time_points)\n",
        "        z = z.permute(1, 0, 2)  # [batch_size, seq_len, latent_dim]\n",
        "\n",
        "        # Decode\n",
        "        x_pred = self.decoder(z)\n",
        "\n",
        "        return x_pred, mean, logvar\n"
      ]
    },
    {
      "cell_type": "code",
      "execution_count": null,
      "metadata": {
        "id": "2Sw5aj7bmprW"
      },
      "outputs": [],
      "source": [
        "# Model hyperparameters\n",
        "input_dim = 3  # tx, ty, tz\n",
        "latent_dim = 3\n",
        "hidden_dim = 128\n",
        "batch_size = 176\n",
        "epochs = 2000\n",
        "lr = 0.01"
      ]
    },
    {
      "cell_type": "code",
      "execution_count": null,
      "metadata": {
        "id": "Qj1mW4qGmrMw"
      },
      "outputs": [],
      "source": [
        "# Reshape for batched training (we'll use a batch size of 1 since we have one trajectory)\n",
        "complete_dataset = TensorDataset(\n",
        "    complete_features_tensor.unsqueeze(0),\n",
        "    complete_time_tensor.unsqueeze(0)\n",
        ")\n",
        "complete_loader = DataLoader(complete_dataset, batch_size=1, shuffle=False)\n"
      ]
    },
    {
      "cell_type": "code",
      "execution_count": null,
      "metadata": {
        "id": "qfsIxoiEmtqe"
      },
      "outputs": [],
      "source": [
        "# Create and train the model\n",
        "model = LatentODE(input_dim, latent_dim, hidden_dim, device).to(device)\n",
        "optimizer = optim.Adam(model.parameters(), lr=lr)\n"
      ]
    },
    {
      "cell_type": "code",
      "execution_count": null,
      "metadata": {
        "id": "fT6hUN5OmuFO"
      },
      "outputs": [],
      "source": [
        "def loss_fn(pred, target, mean, logvar, mask=None):\n",
        "    \"\"\"\n",
        "    Loss function with reconstruction loss and KL divergence\n",
        "    \"\"\"\n",
        "    if mask is None:\n",
        "        mask = torch.ones_like(target)\n",
        "\n",
        "    # MSE reconstruction loss\n",
        "    recon_loss = torch.sum(mask.unsqueeze(-1) * (pred - target)**2) / torch.sum(mask.unsqueeze(-1))\n",
        "\n",
        "    # KL divergence\n",
        "    kl_loss = -0.5 * torch.mean(1 + logvar - mean.pow(2) - logvar.exp())\n",
        "\n",
        "    return recon_loss + 0.1 * kl_loss, recon_loss, kl_loss\n"
      ]
    },
    {
      "cell_type": "code",
      "execution_count": null,
      "metadata": {
        "id": "tOiP5Khpmvdi"
      },
      "outputs": [],
      "source": [
        "# Training loop\n",
        "print(\"Starting training...\")\n",
        "losses = []\n",
        "\n",
        "for epoch in range(epochs):\n",
        "    model.train()\n",
        "    epoch_loss = 0.0\n",
        "\n",
        "    for batch_idx, (x_batch, t_batch) in enumerate(complete_loader):\n",
        "        x_batch = x_batch.to(device)\n",
        "        t_batch = t_batch.to(device)\n",
        "\n",
        "        optimizer.zero_grad()\n",
        "\n",
        "        # Forward pass\n",
        "        x_pred, mean, logvar = model(x_batch, t_batch, complete_time_tensor.to(device))\n",
        "\n",
        "        # Compute loss\n",
        "        loss, recon_loss, kl_loss = loss_fn(x_pred, x_batch, mean, logvar, observed_mask_tensor.to(device))\n",
        "\n",
        "        # Backward pass\n",
        "        loss.backward()\n",
        "        optimizer.step()\n",
        "\n",
        "        epoch_loss += loss.item()\n",
        "\n",
        "    avg_loss = epoch_loss / len(complete_loader)\n",
        "    losses.append(avg_loss)\n",
        "\n",
        "    if (epoch + 1) % 20 == 0:\n",
        "        print(f\"Epoch {epoch+1}/{epochs}, Loss: {avg_loss:.6f}\")\n",
        "\n",
        "print(\"Training completed!\")"
      ]
    },
    {
      "cell_type": "code",
      "execution_count": null,
      "metadata": {
        "id": "3j70DJiHmyhd"
      },
      "outputs": [],
      "source": [
        "# Evaluation and visualization\n",
        "model.eval()\n",
        "with torch.no_grad():\n",
        "    x_complete = complete_features_tensor.unsqueeze(0).to(device)\n",
        "    t_complete = complete_time_tensor.unsqueeze(0).to(device)\n",
        "\n",
        "    # Get predictions for all time points\n",
        "    x_pred, _, _ = model(x_complete, t_complete, complete_time_tensor.to(device))\n",
        "\n",
        "    # Move predictions back to CPU and convert to numpy\n",
        "    x_pred = x_pred.squeeze(0).cpu().numpy()\n",
        "\n",
        "    # Inverse transform to get the original scale\n",
        "    x_pred_original = feature_scaler.inverse_transform(x_pred)\n"
      ]
    },
    {
      "cell_type": "code",
      "execution_count": null,
      "metadata": {
        "id": "_gO8R35xm3Ou"
      },
      "outputs": [],
      "source": [
        "# Compare the reconstructed trajectory with the original\n",
        "plt.figure(figsize=(15, 10))\n",
        "features = ['tx', 'ty', 'tz']\n",
        "\n",
        "for i in range(3):\n",
        "    plt.subplot(3, 1, i+1)\n",
        "\n",
        "    # Original complete data\n",
        "    plt.plot(complete_time, complete_features[:, i], 'b-', label='Original Complete')\n",
        "\n",
        "    # Incomplete data points\n",
        "    plt.plot(incomplete_time, incomplete_features[:, i], 'ro', markersize=4, label='Observed (Incomplete)')\n",
        "\n",
        "    # Reconstructed trajectory\n",
        "    plt.plot(complete_time, x_pred_original[:, i], 'g--', label='Reconstructed')\n",
        "\n",
        "    plt.title(f'Feature: {features[i]}')\n",
        "    plt.xlabel('Time')\n",
        "    plt.ylabel(features[i])\n",
        "    plt.legend()\n",
        "\n",
        "plt.tight_layout()\n",
        "plt.savefig('../output/10000_epoch/uav_trajectory_reconstruction.png')\n",
        "plt.close()"
      ]
    },
    {
      "cell_type": "code",
      "execution_count": null,
      "metadata": {
        "id": "DlmzHeD6m6S3"
      },
      "outputs": [],
      "source": [
        "# Calculate reconstruction error\n",
        "# First, find indices that exist in complete dataset but not in incomplete\n",
        "missing_indices = np.where(observed_mask == 0)[0]\n",
        "missing_original = complete_features[missing_indices]\n",
        "missing_reconstructed = x_pred_original[missing_indices]\n",
        "\n",
        "mse = np.mean((missing_original - missing_reconstructed) ** 2)\n",
        "mae = np.mean(np.abs(missing_original - missing_reconstructed))\n",
        "\n",
        "print(f\"Missing points reconstruction - MSE: {mse:.6f}, MAE: {mae:.6f}\")\n"
      ]
    },
    {
      "cell_type": "code",
      "execution_count": null,
      "metadata": {
        "id": "6siX9c3bqsns"
      },
      "outputs": [],
      "source": [
        "import numpy as np\n",
        "from sklearn.metrics import mean_squared_error, r2_score"
      ]
    },
    {
      "cell_type": "code",
      "execution_count": null,
      "metadata": {
        "id": "68eBET2Zm70J"
      },
      "outputs": [],
      "source": [
        "# Calculate error metrics for each dimension\n",
        "for i in range(3):\n",
        "    mse_dim = np.mean((missing_original[:, i] - missing_reconstructed[:, i]) ** 2)\n",
        "    mae_dim = np.mean(np.abs(missing_original[:, i] - missing_reconstructed[:, i]))\n",
        "    print(f\"Dimension {features[i]} - MSE: {mse_dim:.6f}, MAE: {mae_dim:.6f}\")\n"
      ]
    },
    {
      "cell_type": "code",
      "execution_count": null,
      "metadata": {
        "id": "gNZtB846q8DJ"
      },
      "outputs": [],
      "source": [
        "y_true_missing = missing_original\n",
        "y_pred_missing = missing_reconstructed\n",
        "\n",
        "# Dữ liệu thực tế và dự đoán trên toàn bộ quỹ đạo\n",
        "y_true_all = complete_features\n",
        "y_pred_all = x_pred_original"
      ]
    },
    {
      "cell_type": "code",
      "execution_count": null,
      "metadata": {
        "id": "RAT5fzgcrVWI"
      },
      "outputs": [],
      "source": [
        "# --- 2. R-squared (R^2) ---\n",
        "if y_true_missing.shape[0] > 0:\n",
        "    r2_total_missing = r2_score(y_true_missing, y_pred_missing, multioutput='uniform_average') # Tính R^2 trung bình cho các chiều\n",
        "    print(f\"\\nTổng R^2 (trên điểm bị thiếu, trung bình các chiều): {r2_total_missing:.6f}\")\n",
        "\n",
        "    for i in range(y_true_missing.shape[1]):\n",
        "        # Kiểm tra để tránh lỗi nếu một chiều có phương sai bằng 0 (ít xảy ra với dữ liệu thực)\n",
        "        if np.var(y_true_missing[:, i]) == 0 and np.var(y_pred_missing[:, i]) == 0 and np.mean(y_true_missing[:, i]) == np.mean(y_pred_missing[:, i]):\n",
        "            r2_dim_missing = 1.0 # Dự đoán hoàn hảo cho một hằng số\n",
        "        elif np.var(y_true_missing[:, i]) == 0:\n",
        "             r2_dim_missing = 0.0 # Không thể giải thích phương sai nếu không có phương sai\n",
        "        else:\n",
        "            r2_dim_missing = r2_score(y_true_missing[:, i], y_pred_missing[:, i])\n",
        "        print(f\"R^2 cho chiều {features[i]} (trên điểm bị thiếu): {r2_dim_missing:.6f}\")\n",
        "else:\n",
        "    print(\"\\nKhông có điểm dữ liệu nào bị thiếu để tính R^2.\")"
      ]
    },
    {
      "cell_type": "code",
      "execution_count": null,
      "metadata": {
        "id": "TA5S5Gi7rfIi"
      },
      "outputs": [],
      "source": [
        "# --- 4. Directional Accuracy (DA) ---\n",
        "def directional_accuracy_func(y_true_da, y_pred_da):\n",
        "    y_true_da, y_pred_da = np.asarray(y_true_da), np.asarray(y_pred_da)\n",
        "    if len(y_true_da) < 2:\n",
        "        return np.nan # Cần ít nhất 2 điểm để so sánh hướng\n",
        "\n",
        "    true_diff = np.diff(y_true_da)\n",
        "    pred_diff = np.diff(y_pred_da)\n",
        "\n",
        "    true_direction = np.sign(true_diff)\n",
        "    pred_direction = np.sign(pred_diff)\n",
        "\n",
        "    # Xử lý trường hợp cả hai diff đều là 0 (không đổi hướng) là một dự đoán đúng\n",
        "    correct_direction = (true_direction == pred_direction)\n",
        "    return np.mean(correct_direction) * 100"
      ]
    },
    {
      "cell_type": "code",
      "execution_count": null,
      "metadata": {
        "id": "uOrOAXT8rces"
      },
      "outputs": [],
      "source": [
        "print(\"\\n--- Directional Accuracy (trên các điểm bị thiếu, nếu theo thứ tự thời gian) ---\")\n",
        "# Lưu ý: DA trên các điểm bị thiếu chỉ có ý nghĩa nếu các điểm đó được sắp xếp theo thời gian\n",
        "# và tạo thành một chuỗi có thể phân tích hướng.\n",
        "if y_true_missing.shape[0] >= 2:\n",
        "    da_missing_list = []\n",
        "    for i in range(y_true_missing.shape[1]):\n",
        "        da_dim_missing = directional_accuracy_func(y_true_missing[:, i], y_pred_missing[:, i])\n",
        "        if not np.isnan(da_dim_missing):\n",
        "            da_missing_list.append(da_dim_missing)\n",
        "        print(f\"DA cho chiều {features[i]} (trên điểm bị thiếu): {da_dim_missing:.2f}%\" if not np.isnan(da_dim_missing) else f\"DA cho chiều {features[i]} (trên điểm bị thiếu): Không đủ dữ liệu\")\n",
        "\n",
        "    if da_missing_list:\n",
        "        print(f\"DA trung bình tổng thể (trên điểm bị thiếu, cho các chiều tính được): {np.mean(da_missing_list):.2f}%\")\n",
        "    else:\n",
        "        print(\"DA trung bình tổng thể (trên điểm bị thiếu): Không thể tính.\")\n",
        "else:\n",
        "    print(\"Không đủ điểm dữ liệu bị thiếu để tính Directional Accuracy.\")"
      ]
    },
    {
      "cell_type": "code",
      "execution_count": null,
      "metadata": {
        "id": "My_HpyTcrn-g"
      },
      "outputs": [],
      "source": [
        "# --- R-squared (R^2) trên toàn bộ quỹ đạo ---\n",
        "r2_total_all = r2_score(y_true_all, y_pred_all, multioutput='uniform_average')\n",
        "print(f\"\\nTổng R^2 (toàn bộ quỹ đạo, trung bình các chiều): {r2_total_all:.6f}\")\n",
        "for i in range(y_true_all.shape[1]):\n",
        "    if np.var(y_true_all[:, i]) == 0 and np.var(y_pred_all[:, i]) == 0 and np.mean(y_true_all[:, i]) == np.mean(y_pred_all[:, i]):\n",
        "        r2_dim_all = 1.0\n",
        "    elif np.var(y_true_all[:, i]) == 0:\n",
        "        r2_dim_all = 0.0\n",
        "    else:\n",
        "        r2_dim_all = r2_score(y_true_all[:, i], y_pred_all[:, i])\n",
        "    print(f\"R^2 cho chiều {features[i]} (toàn bộ quỹ đạo): {r2_dim_all:.6f}\")"
      ]
    },
    {
      "cell_type": "code",
      "execution_count": null,
      "metadata": {
        "id": "g4Tw04J1rqdQ"
      },
      "outputs": [],
      "source": [
        "# --- Directional Accuracy (DA) trên toàn bộ quỹ đạo ---\n",
        "print(\"\\n--- Directional Accuracy (toàn bộ quỹ đạo) ---\")\n",
        "if y_true_all.shape[0] >= 2:\n",
        "    da_all_list = []\n",
        "    for i in range(y_true_all.shape[1]):\n",
        "        da_dim_all = directional_accuracy_func(y_true_all[:, i], y_pred_all[:, i])\n",
        "        if not np.isnan(da_dim_all):\n",
        "            da_all_list.append(da_dim_all)\n",
        "        print(f\"DA cho chiều {features[i]} (toàn bộ quỹ đạo): {da_dim_all:.2f}%\" if not np.isnan(da_dim_all) else f\"DA cho chiều {features[i]} (toàn bộ quỹ đạo): Không đủ dữ liệu\")\n",
        "\n",
        "    if da_all_list:\n",
        "        print(f\"DA trung bình tổng thể (toàn bộ quỹ đạo, cho các chiều tính được): {np.mean(da_all_list):.2f}%\")\n",
        "    else:\n",
        "        print(\"DA trung bình tổng thể (toàn bộ quỹ đạo): Không thể tính.\")\n",
        "else:\n",
        "    print(\"Không đủ điểm dữ liệu trên toàn bộ quỹ đạo để tính Directional Accuracy.\")"
      ]
    },
    {
      "cell_type": "code",
      "execution_count": null,
      "metadata": {
        "id": "mbi3xGYvr66Z"
      },
      "outputs": [],
      "source": [
        "# --- 3. Mean Absolute Percentage Error (MAPE) ---\n",
        "def mape_func(y_true_m, y_pred_m, epsilon=1e-8): # Thêm epsilon để tránh chia cho 0 tuyệt đối\n",
        "    y_true_m, y_pred_m = np.asarray(y_true_m), np.asarray(y_pred_m)\n",
        "\n",
        "    # Xử lý trường hợp y_true_m bằng 0\n",
        "    # Ở đây, chúng ta sẽ chỉ tính MAPE cho các điểm mà y_true_m khác 0.\n",
        "    # Hoặc có thể thay thế y_true_m == 0 bằng một giá trị rất nhỏ (epsilon) nếu muốn bao gồm chúng\n",
        "    # nhưng điều này có thể làm MAPE rất lớn nếu y_pred_m khác biệt đáng kể.\n",
        "\n",
        "    mask = y_true_m != 0\n",
        "    if not np.any(mask): # Nếu tất cả y_true_m đều bằng 0 (hoặc bị mask hết)\n",
        "         return np.nan # Không thể tính MAPE\n",
        "\n",
        "    # Chỉ tính trên các phần tử không bị mask\n",
        "    y_true_masked = y_true_m[mask]\n",
        "    y_pred_masked = y_pred_m[mask]\n",
        "\n",
        "    # Nếu sau khi mask không còn phần tử nào (trường hợp hiếm nếu ban đầu có dữ liệu)\n",
        "    if y_true_masked.shape[0] == 0:\n",
        "        return np.nan\n",
        "\n",
        "    return np.mean(np.abs((y_true_masked - y_pred_masked) / y_true_masked)) * 100"
      ]
    },
    {
      "cell_type": "code",
      "execution_count": null,
      "metadata": {
        "id": "PmYGvvE3sDZh"
      },
      "outputs": [],
      "source": [
        "# MAPE trên toàn bộ quỹ đạo tái tạo\n",
        "print(\"\\nMAPE trên toàn bộ quỹ đạo tái tạo:\")\n",
        "if y_true_all.shape[0] > 0:\n",
        "    mape_all_list = []\n",
        "    for i in range(y_true_all.shape[1]):\n",
        "        mape_dim_all = mape_func(y_true_all[:, i], y_pred_all[:, i])\n",
        "        if not np.isnan(mape_dim_all):\n",
        "            mape_all_list.append(mape_dim_all)\n",
        "        print(f\"MAPE cho chiều {features[i]} (toàn bộ quỹ đạo): {mape_dim_all:.2f}%\" if not np.isnan(mape_dim_all) else f\"MAPE cho chiều {features[i]} (toàn bộ quỹ đạo): Không thể tính (y_true có thể chứa giá trị 0)\")\n",
        "\n",
        "    if mape_all_list:\n",
        "        print(f\"MAPE trung bình tổng thể (toàn bộ quỹ đạo, cho các chiều tính được): {np.mean(mape_all_list):.2f}%\")\n",
        "    else:\n",
        "        print(\"MAPE trung bình tổng thể (toàn bộ quỹ đạo): Không thể tính.\")\n",
        "else:\n",
        "    print(\"Không có dữ liệu trên toàn bộ quỹ đạo để tính MAPE.\")"
      ]
    },
    {
      "cell_type": "code",
      "execution_count": null,
      "metadata": {
        "id": "GWqrzViXsAMZ"
      },
      "outputs": [],
      "source": [
        "# MAPE trên các điểm bị thiếu\n",
        "print(\"\\nMAPE trên các điểm bị thiếu:\")\n",
        "if y_true_missing.shape[0] > 0:\n",
        "    mape_missing_list = []\n",
        "    for i in range(y_true_missing.shape[1]):\n",
        "        mape_dim_missing = mape_func(y_true_missing[:, i], y_pred_missing[:, i])\n",
        "        if not np.isnan(mape_dim_missing):\n",
        "            mape_missing_list.append(mape_dim_missing)\n",
        "        print(f\"MAPE cho chiều {features[i]} (trên điểm bị thiếu): {mape_dim_missing:.2f}%\" if not np.isnan(mape_dim_missing) else f\"MAPE cho chiều {features[i]} (trên điểm bị thiếu): Không thể tính (y_true có thể chứa giá trị 0 hoặc không có điểm)\")\n",
        "\n",
        "    if mape_missing_list:\n",
        "        print(f\"MAPE trung bình tổng thể (trên điểm bị thiếu, cho các chiều tính được): {np.mean(mape_missing_list):.2f}%\")\n",
        "    else:\n",
        "        print(\"MAPE trung bình tổng thể (trên điểm bị thiếu): Không thể tính.\")\n",
        "else:\n",
        "    print(\"Không có điểm dữ liệu nào bị thiếu để tính MAPE.\")"
      ]
    },
    {
      "cell_type": "code",
      "execution_count": null,
      "metadata": {
        "id": "9L87Eodxm9i_"
      },
      "outputs": [],
      "source": [
        "# Create a more detailed comparison plot for missing points\n",
        "plt.figure(figsize=(15, 10))\n",
        "for i in range(3):\n",
        "    plt.subplot(3, 1, i+1)\n",
        "\n",
        "    # Original values at missing points\n",
        "    plt.plot(complete_time[missing_indices], missing_original[:, i], 'bx', markersize=6, label='Original (Missing)')\n",
        "\n",
        "    # Reconstructed values at missing points\n",
        "    plt.plot(complete_time[missing_indices], missing_reconstructed[:, i], 'go', markersize=4, label='Reconstructed')\n",
        "\n",
        "    plt.title(f'Reconstruction of Missing Points: {features[i]}')\n",
        "    plt.xlabel('Time')\n",
        "    plt.ylabel(features[i])\n",
        "    plt.legend()\n",
        "\n",
        "plt.tight_layout()\n",
        "plt.savefig('../output/10000_epoch/missing_points_comparison.png')\n",
        "plt.close()"
      ]
    },
    {
      "cell_type": "code",
      "execution_count": null,
      "metadata": {
        "id": "6djiThoim-Me"
      },
      "outputs": [],
      "source": [
        "# Plot training loss\n",
        "plt.figure(figsize=(10, 6))\n",
        "plt.plot(range(1, len(losses) + 1), losses)\n",
        "plt.title('Training Loss')\n",
        "plt.xlabel('Epoch')\n",
        "plt.ylabel('Loss')\n",
        "plt.grid(True)\n",
        "plt.savefig('../output/10000_epoch/training_loss.png')\n",
        "plt.close()\n"
      ]
    },
    {
      "cell_type": "code",
      "execution_count": null,
      "metadata": {
        "id": "ijDeLTp7nBIm"
      },
      "outputs": [],
      "source": [
        "# 3D trajectory visualization\n",
        "fig = plt.figure(figsize=(10, 8))\n",
        "ax = fig.add_subplot(111, projection='3d')\n",
        "\n",
        "# Original complete trajectory\n",
        "ax.plot3D(complete_features[:, 0], complete_features[:, 1], complete_features[:, 2],\n",
        "         'b-', linewidth=1, label='Original Complete')\n",
        "\n",
        "# Observed points\n",
        "ax.scatter(incomplete_features[:, 0], incomplete_features[:, 1], incomplete_features[:, 2],\n",
        "          c='r', s=30, label='Observed Points')\n",
        "\n",
        "# Reconstructed trajectory\n",
        "ax.plot3D(x_pred_original[:, 0], x_pred_original[:, 1], x_pred_original[:, 2],\n",
        "         'g--', linewidth=2, label='Reconstructed')\n",
        "\n",
        "ax.set_xlabel('tx')\n",
        "ax.set_ylabel('ty')\n",
        "ax.set_zlabel('tz')\n",
        "ax.set_title('UAV 3D Trajectory Reconstruction')\n",
        "ax.legend()\n",
        "\n",
        "plt.tight_layout()\n",
        "plt.savefig('../output/10000_epoch/uav_3d_trajectory.png')\n",
        "plt.close()"
      ]
    },
    {
      "cell_type": "code",
      "execution_count": null,
      "metadata": {
        "id": "6Uk5X2O5nC8m"
      },
      "outputs": [],
      "source": [
        "# Save the reconstructed trajectory to CSV\n",
        "reconstructed_df = pd.DataFrame({\n",
        "    'timestamp': complete_time,\n",
        "    'tx': x_pred_original[:, 0],\n",
        "    'ty': x_pred_original[:, 1],\n",
        "    'tz': x_pred_original[:, 2]\n",
        "})\n",
        "reconstructed_df.to_csv('uav_reconstructed_trajectory.csv', index=False)\n",
        "print(\"Reconstructed trajectory saved to 'uav_reconstructed_trajectory.csv'\")"
      ]
    }
  ],
  "metadata": {
    "accelerator": "GPU",
    "colab": {
      "gpuType": "T4",
      "provenance": []
    },
    "kernelspec": {
      "display_name": "Python 3",
      "name": "python3"
    },
    "language_info": {
      "name": "python"
    }
  },
  "nbformat": 4,
  "nbformat_minor": 0
}
