{
 "cells": [
  {
   "cell_type": "code",
   "execution_count": 1,
   "id": "e02722ea",
   "metadata": {},
   "outputs": [],
   "source": [
    "import pandas as pd\n",
    "import numpy as np\n",
    "from sklearn.ensemble import RandomForestClassifier\n",
    "from sklearn.model_selection import train_test_split\n",
    "from sklearn.preprocessing import StandardScaler\n",
    "import matplotlib.pyplot as plt\n",
    "import seaborn as sns"
   ]
  },
  {
   "cell_type": "code",
   "execution_count": 2,
   "id": "159ffa83",
   "metadata": {},
   "outputs": [],
   "source": [
    "# Read the CSV file\n",
    "df = pd.read_csv('../data/raw/uav_hugging_face.csv')\n",
    "\n",
    "# Calculate number of rows to drop (20%)\n",
    "n_rows_to_drop = int(len(df) * 0.4)"
   ]
  },
  {
   "cell_type": "code",
   "execution_count": 3,
   "id": "fb2d9e3c",
   "metadata": {},
   "outputs": [],
   "source": [
    "# Randomly select rows to drop\n",
    "rows_to_drop = np.random.choice(len(df), size=n_rows_to_drop, replace=False)"
   ]
  },
  {
   "cell_type": "code",
   "execution_count": 4,
   "id": "e0e77971",
   "metadata": {},
   "outputs": [],
   "source": [
    "# Create a mask to keep rows\n",
    "keep_mask = ~np.isin(np.arange(len(df)), rows_to_drop)"
   ]
  },
  {
   "cell_type": "code",
   "execution_count": 5,
   "id": "c2f84f56",
   "metadata": {},
   "outputs": [],
   "source": [
    "# Apply the mask to keep only selected rows\n",
    "df_filtered = df[keep_mask]"
   ]
  },
  {
   "cell_type": "code",
   "execution_count": 6,
   "id": "9f5af1c4",
   "metadata": {},
   "outputs": [
    {
     "name": "stdout",
     "output_type": "stream",
     "text": [
      "Original number of rows: 220\n",
      "Number of rows after dropping 20%: 132\n",
      "Saved filtered data to: ../data/processed/uav_hugging_face_dropped_40.csv\n"
     ]
    }
   ],
   "source": [
    "# Save to new file\n",
    "output_file = '../data/processed/uav_hugging_face_dropped_40.csv'\n",
    "df_filtered.to_csv(output_file, index=False)\n",
    "\n",
    "print(f\"Original number of rows: {len(df)}\")\n",
    "print(f\"Number of rows after dropping 20%: {len(df_filtered)}\")\n",
    "print(f\"Saved filtered data to: {output_file}\") "
   ]
  }
 ],
 "metadata": {
  "kernelspec": {
   "display_name": "Pytorch",
   "language": "python",
   "name": "pytorch"
  },
  "language_info": {
   "codemirror_mode": {
    "name": "ipython",
    "version": 3
   },
   "file_extension": ".py",
   "mimetype": "text/x-python",
   "name": "python",
   "nbconvert_exporter": "python",
   "pygments_lexer": "ipython3",
   "version": "3.10.12"
  }
 },
 "nbformat": 4,
 "nbformat_minor": 5
}
