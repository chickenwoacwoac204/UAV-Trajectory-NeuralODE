{
  "cells": [
    {
      "cell_type": "code",
      "execution_count": 1,
      "metadata": {
        "colab": {
          "base_uri": "https://localhost:8080/",
          "height": 383
        },
        "id": "7vAQNh2Lky7b",
        "outputId": "8e7f5e41-8b8b-4a6e-c88d-ad4a5063dd3c"
      },
      "outputs": [],
      "source": [
        "import torch\n",
        "import torch.nn as nn\n",
        "import torch.optim as optim\n",
        "import torch.nn.functional as F\n",
        "import numpy as np\n",
        "import pandas as pd\n",
        "import matplotlib.pyplot as plt\n",
        "from torchdiffeq import odeint\n",
        "from torch.utils.data import DataLoader, TensorDataset\n",
        "from sklearn.preprocessing import MinMaxScaler"
      ]
    },
    {
      "cell_type": "code",
      "execution_count": 2,
      "metadata": {
        "id": "aAKjrZi8lGlo"
      },
      "outputs": [
        {
          "name": "stdout",
          "output_type": "stream",
          "text": [
            "Using device: cuda\n"
          ]
        }
      ],
      "source": [
        "# Set device\n",
        "device = torch.device(\"cuda\" if torch.cuda.is_available() else \"cpu\")\n",
        "print(f\"Using device: {device}\")"
      ]
    },
    {
      "cell_type": "code",
      "execution_count": 3,
      "metadata": {
        "id": "Nf10YeTJl6Xe"
      },
      "outputs": [],
      "source": [
        "# Set random seeds for reproducibility\n",
        "torch.manual_seed(42)\n",
        "np.random.seed(42)"
      ]
    },
    {
      "cell_type": "code",
      "execution_count": 4,
      "metadata": {
        "id": "jb1llNPHmE7O"
      },
      "outputs": [],
      "source": [
        "# Load the data\n",
        "complete_data = pd.read_csv('../data/raw/uav_hugging_face.csv')\n",
        "incomplete_data = pd.read_csv('../data/processed/uav_hugging_face_dropped_40.csv')"
      ]
    },
    {
      "cell_type": "code",
      "execution_count": 5,
      "metadata": {
        "id": "359WWhUkmNy-"
      },
      "outputs": [],
      "source": [
        "# Extract time and features\n",
        "complete_time = complete_data['timestamp'].values\n",
        "complete_features = complete_data[['tx', 'ty', 'tz']].values\n"
      ]
    },
    {
      "cell_type": "code",
      "execution_count": 6,
      "metadata": {
        "id": "9Zdt0XkjmPOe"
      },
      "outputs": [],
      "source": [
        "incomplete_time = incomplete_data['timestamp'].values\n",
        "incomplete_features = incomplete_data[['tx', 'ty', 'tz']].values\n"
      ]
    },
    {
      "cell_type": "code",
      "execution_count": 7,
      "metadata": {
        "id": "E8g0cBsMmPJO"
      },
      "outputs": [],
      "source": [
        "# Normalize the time to [0, 1]\n",
        "time_scaler = MinMaxScaler()\n",
        "complete_time_norm = time_scaler.fit_transform(complete_time.reshape(-1, 1)).flatten()\n"
      ]
    },
    {
      "cell_type": "code",
      "execution_count": 8,
      "metadata": {
        "id": "-EUnzVwVmeym"
      },
      "outputs": [],
      "source": [
        "# Normalize features\n",
        "feature_scaler = MinMaxScaler()\n",
        "complete_features_norm = feature_scaler.fit_transform(complete_features)\n",
        "incomplete_features_norm = feature_scaler.transform(incomplete_features)\n"
      ]
    },
    {
      "cell_type": "code",
      "execution_count": 9,
      "metadata": {
        "id": "4l1YwKaQmgk3"
      },
      "outputs": [],
      "source": [
        "# Create a mask for observed time points in the incomplete dataset\n",
        "observed_mask = np.zeros(len(complete_time))\n",
        "for t in incomplete_time:\n",
        "    idx = np.where(complete_time == t)[0]\n",
        "    if len(idx) > 0:\n",
        "        observed_mask[idx[0]] = 1"
      ]
    },
    {
      "cell_type": "code",
      "execution_count": 10,
      "metadata": {
        "id": "NUsBIySVmiNW"
      },
      "outputs": [],
      "source": [
        "# Convert to PyTorch tensors\n",
        "complete_time_tensor = torch.tensor(complete_time_norm, dtype=torch.float32)\n",
        "complete_features_tensor = torch.tensor(complete_features_norm, dtype=torch.float32)\n",
        "incomplete_time_tensor = torch.tensor(time_scaler.transform(incomplete_time.reshape(-1, 1)).flatten(), dtype=torch.float32)\n",
        "incomplete_features_tensor = torch.tensor(incomplete_features_norm, dtype=torch.float32)\n",
        "observed_mask_tensor = torch.tensor(observed_mask, dtype=torch.float32)\n"
      ]
    },
    {
      "cell_type": "code",
      "execution_count": 11,
      "metadata": {
        "id": "_2KfUhAYmjVW"
      },
      "outputs": [],
      "source": [
        "# Define the Latent ODE model components\n",
        "class LatentODEFunc(nn.Module):\n",
        "    \"\"\"ODE function for the latent dynamics\"\"\"\n",
        "    def __init__(self, latent_dim, hidden_dim):\n",
        "        super(LatentODEFunc, self).__init__()\n",
        "        self.net = nn.Sequential(\n",
        "            nn.Linear(latent_dim, hidden_dim),\n",
        "            nn.Tanh(),\n",
        "            nn.Linear(hidden_dim, hidden_dim),\n",
        "            nn.Tanh(),\n",
        "            nn.Linear(hidden_dim, latent_dim)\n",
        "        )\n",
        "\n",
        "    def forward(self, t, x):\n",
        "        \"\"\"Time derivative of the latent state\"\"\"\n",
        "        return self.net(x)"
      ]
    },
    {
      "cell_type": "code",
      "execution_count": 12,
      "metadata": {
        "id": "AFnU6-xpmkt-"
      },
      "outputs": [],
      "source": [
        "class Encoder(nn.Module):\n",
        "    \"\"\"Encodes the observed data into initial latent state\"\"\"\n",
        "    def __init__(self, input_dim, hidden_dim, latent_dim):\n",
        "        super(Encoder, self).__init__()\n",
        "        self.lstm = nn.LSTM(input_dim, hidden_dim, batch_first=True)\n",
        "        self.linear = nn.Linear(hidden_dim, latent_dim * 2)  # For mean and logvar\n",
        "\n",
        "    def forward(self, x, time):\n",
        "        \"\"\"\n",
        "        x: [batch_size, seq_len, input_dim]\n",
        "        time: [batch_size, seq_len]\n",
        "        \"\"\"\n",
        "        # Sort by time\n",
        "        _, indices = torch.sort(time, dim=1)\n",
        "        batch_size, seq_len = x.size(0), x.size(1)\n",
        "        sorted_indices = indices.unsqueeze(-1).expand(-1, -1, x.size(-1))\n",
        "        x_sorted = torch.gather(x, 1, sorted_indices)\n",
        "\n",
        "        h, _ = self.lstm(x_sorted)\n",
        "        h = h[:, -1, :]  # Take the last hidden state\n",
        "\n",
        "        params = self.linear(h)\n",
        "        mean, logvar = torch.chunk(params, 2, dim=1)\n",
        "\n",
        "        # Reparameterization trick\n",
        "        std = torch.exp(0.5 * logvar)\n",
        "        eps = torch.randn_like(std)\n",
        "        z0 = mean + eps * std\n",
        "\n",
        "        return z0, mean, logvar\n"
      ]
    },
    {
      "cell_type": "code",
      "execution_count": 13,
      "metadata": {
        "id": "D3RiPH84mmc2"
      },
      "outputs": [],
      "source": [
        "\n",
        "class Decoder(nn.Module):\n",
        "    \"\"\"Decodes the latent state into observed data\"\"\"\n",
        "    def __init__(self, latent_dim, hidden_dim, output_dim):\n",
        "        super(Decoder, self).__init__()\n",
        "        self.net = nn.Sequential(\n",
        "            nn.Linear(latent_dim, hidden_dim),\n",
        "            nn.ReLU(),\n",
        "            nn.Linear(hidden_dim, hidden_dim),\n",
        "            nn.ReLU(),\n",
        "            nn.Linear(hidden_dim, output_dim)\n",
        "        )\n",
        "\n",
        "    def forward(self, z):\n",
        "        \"\"\"\n",
        "        z: [batch_size, seq_len, latent_dim]\n",
        "        \"\"\"\n",
        "        return self.net(z)\n"
      ]
    },
    {
      "cell_type": "code",
      "execution_count": 14,
      "metadata": {
        "id": "-Gb4GBvomoBe"
      },
      "outputs": [],
      "source": [
        "class LatentODE(nn.Module):\n",
        "    \"\"\"Complete Latent ODE model\"\"\"\n",
        "    def __init__(self, input_dim, latent_dim, hidden_dim, device):\n",
        "        super(LatentODE, self).__init__()\n",
        "        self.encoder = Encoder(input_dim, hidden_dim, latent_dim)\n",
        "        self.func = LatentODEFunc(latent_dim, hidden_dim)\n",
        "        self.decoder = Decoder(latent_dim, hidden_dim, input_dim)\n",
        "        self.latent_dim = latent_dim\n",
        "        self.device = device\n",
        "\n",
        "    def forward(self, x, time_points, target_time_points):\n",
        "        \"\"\"\n",
        "        x: [batch_size, seq_len, input_dim]\n",
        "        time_points: [batch_size, seq_len]\n",
        "        target_time_points: times to evaluate the ODE at\n",
        "        \"\"\"\n",
        "        batch_size = x.size(0)\n",
        "\n",
        "        # Get initial latent state\n",
        "        z0, mean, logvar = self.encoder(x, time_points)\n",
        "\n",
        "        # Integrate the ODE\n",
        "        target_time_points = target_time_points.to(self.device)\n",
        "        z = odeint(self.func, z0, target_time_points)\n",
        "        z = z.permute(1, 0, 2)  # [batch_size, seq_len, latent_dim]\n",
        "\n",
        "        # Decode\n",
        "        x_pred = self.decoder(z)\n",
        "\n",
        "        return x_pred, mean, logvar\n"
      ]
    },
    {
      "cell_type": "code",
      "execution_count": 15,
      "metadata": {
        "id": "2Sw5aj7bmprW"
      },
      "outputs": [],
      "source": [
        "# Model hyperparameters\n",
        "input_dim = 3  # tx, ty, tz\n",
        "latent_dim = 8\n",
        "hidden_dim = 256\n",
        "batch_size = 132\n",
        "epochs = 3000\n",
        "lr = 0.01"
      ]
    },
    {
      "cell_type": "code",
      "execution_count": 16,
      "metadata": {
        "id": "Qj1mW4qGmrMw"
      },
      "outputs": [],
      "source": [
        "# Reshape for batched training (we'll use a batch size of 1 since we have one trajectory)\n",
        "complete_dataset = TensorDataset(\n",
        "    complete_features_tensor.unsqueeze(0),\n",
        "    complete_time_tensor.unsqueeze(0)\n",
        ")\n",
        "complete_loader = DataLoader(complete_dataset, batch_size=1, shuffle=False)\n"
      ]
    },
    {
      "cell_type": "code",
      "execution_count": 17,
      "metadata": {
        "id": "qfsIxoiEmtqe"
      },
      "outputs": [],
      "source": [
        "# Create and train the model\n",
        "model = LatentODE(input_dim, latent_dim, hidden_dim, device).to(device)\n",
        "optimizer = optim.Adam(model.parameters(), lr=lr)\n"
      ]
    },
    {
      "cell_type": "code",
      "execution_count": 18,
      "metadata": {
        "id": "fT6hUN5OmuFO"
      },
      "outputs": [],
      "source": [
        "def loss_fn(pred, target, mean, logvar, mask=None):\n",
        "    \"\"\"\n",
        "    Loss function with reconstruction loss and KL divergence\n",
        "    \"\"\"\n",
        "    if mask is None:\n",
        "        mask = torch.ones_like(target)\n",
        "\n",
        "    # MSE reconstruction loss\n",
        "    recon_loss = torch.sum(mask.unsqueeze(-1) * (pred - target)**2) / torch.sum(mask.unsqueeze(-1))\n",
        "\n",
        "    # KL divergence\n",
        "    kl_loss = -0.5 * torch.mean(1 + logvar - mean.pow(2) - logvar.exp())\n",
        "\n",
        "    return recon_loss + 0.1 * kl_loss, recon_loss, kl_loss\n"
      ]
    },
    {
      "cell_type": "code",
      "execution_count": 19,
      "metadata": {
        "id": "tOiP5Khpmvdi"
      },
      "outputs": [
        {
          "name": "stdout",
          "output_type": "stream",
          "text": [
            "Starting training...\n",
            "Epoch 20/3000, Loss: 0.776171\n",
            "Epoch 40/3000, Loss: 0.290076\n",
            "Epoch 60/3000, Loss: 0.256749\n",
            "Epoch 80/3000, Loss: 0.283614\n",
            "Epoch 100/3000, Loss: 0.264089\n",
            "Epoch 120/3000, Loss: 0.240194\n",
            "Epoch 140/3000, Loss: 0.255067\n",
            "Epoch 160/3000, Loss: 0.282216\n",
            "Epoch 180/3000, Loss: 0.233850\n",
            "Epoch 200/3000, Loss: 0.235916\n",
            "Epoch 220/3000, Loss: 0.245409\n",
            "Epoch 240/3000, Loss: 0.220642\n",
            "Epoch 260/3000, Loss: 0.221272\n",
            "Epoch 280/3000, Loss: 0.315761\n",
            "Epoch 300/3000, Loss: 0.240059\n",
            "Epoch 320/3000, Loss: 0.219076\n",
            "Epoch 340/3000, Loss: 0.228628\n",
            "Epoch 360/3000, Loss: 0.242311\n",
            "Epoch 380/3000, Loss: 0.232107\n",
            "Epoch 400/3000, Loss: 0.234104\n",
            "Epoch 420/3000, Loss: 0.213726\n",
            "Epoch 440/3000, Loss: 0.226412\n",
            "Epoch 460/3000, Loss: 0.236961\n",
            "Epoch 480/3000, Loss: 0.218939\n",
            "Epoch 500/3000, Loss: 0.255688\n",
            "Epoch 520/3000, Loss: 0.212535\n",
            "Epoch 540/3000, Loss: 0.226561\n",
            "Epoch 560/3000, Loss: 0.219274\n",
            "Epoch 580/3000, Loss: 0.220187\n",
            "Epoch 600/3000, Loss: 0.241660\n",
            "Epoch 620/3000, Loss: 0.230190\n",
            "Epoch 640/3000, Loss: 0.214390\n",
            "Epoch 660/3000, Loss: 0.229903\n",
            "Epoch 680/3000, Loss: 0.240644\n",
            "Epoch 700/3000, Loss: 0.231068\n",
            "Epoch 720/3000, Loss: 0.204504\n",
            "Epoch 740/3000, Loss: 0.199850\n",
            "Epoch 760/3000, Loss: 0.234155\n",
            "Epoch 780/3000, Loss: 0.202107\n",
            "Epoch 800/3000, Loss: 0.202944\n",
            "Epoch 820/3000, Loss: 0.260388\n",
            "Epoch 840/3000, Loss: 0.204161\n",
            "Epoch 860/3000, Loss: 0.287150\n",
            "Epoch 880/3000, Loss: 0.260871\n",
            "Epoch 900/3000, Loss: 0.236018\n",
            "Epoch 920/3000, Loss: 0.243856\n",
            "Epoch 940/3000, Loss: 0.234726\n",
            "Epoch 960/3000, Loss: 0.196208\n",
            "Epoch 980/3000, Loss: 0.246447\n",
            "Epoch 1000/3000, Loss: 0.208352\n",
            "Epoch 1020/3000, Loss: 0.201997\n",
            "Epoch 1040/3000, Loss: 0.208539\n",
            "Epoch 1060/3000, Loss: 0.206414\n",
            "Epoch 1080/3000, Loss: 0.206382\n",
            "Epoch 1100/3000, Loss: 0.160652\n",
            "Epoch 1120/3000, Loss: 0.191960\n",
            "Epoch 1140/3000, Loss: 0.207416\n",
            "Epoch 1160/3000, Loss: 0.238304\n",
            "Epoch 1180/3000, Loss: 0.237429\n",
            "Epoch 1200/3000, Loss: 0.227486\n",
            "Epoch 1220/3000, Loss: 0.202858\n",
            "Epoch 1240/3000, Loss: 0.211524\n",
            "Epoch 1260/3000, Loss: 0.208715\n",
            "Epoch 1280/3000, Loss: 0.218523\n",
            "Epoch 1300/3000, Loss: 0.230492\n",
            "Epoch 1320/3000, Loss: 0.250296\n",
            "Epoch 1340/3000, Loss: 0.196587\n",
            "Epoch 1360/3000, Loss: 0.242620\n",
            "Epoch 1380/3000, Loss: 0.231863\n",
            "Epoch 1400/3000, Loss: 0.207396\n",
            "Epoch 1420/3000, Loss: 0.139058\n",
            "Epoch 1440/3000, Loss: 0.259876\n",
            "Epoch 1460/3000, Loss: 0.182675\n",
            "Epoch 1480/3000, Loss: 0.150787\n",
            "Epoch 1500/3000, Loss: 0.235172\n",
            "Epoch 1520/3000, Loss: 0.226359\n",
            "Epoch 1540/3000, Loss: 0.207034\n",
            "Epoch 1560/3000, Loss: 0.211715\n",
            "Epoch 1580/3000, Loss: 0.190689\n",
            "Epoch 1600/3000, Loss: 0.181718\n",
            "Epoch 1620/3000, Loss: 0.158320\n",
            "Epoch 1640/3000, Loss: 0.182770\n",
            "Epoch 1660/3000, Loss: 0.139520\n",
            "Epoch 1680/3000, Loss: 0.236269\n",
            "Epoch 1700/3000, Loss: 0.233700\n",
            "Epoch 1720/3000, Loss: 0.234619\n",
            "Epoch 1740/3000, Loss: 0.231953\n",
            "Epoch 1760/3000, Loss: 0.207049\n",
            "Epoch 1780/3000, Loss: 0.243935\n",
            "Epoch 1800/3000, Loss: 0.274732\n",
            "Epoch 1820/3000, Loss: 0.259057\n",
            "Epoch 1840/3000, Loss: 0.197371\n",
            "Epoch 1860/3000, Loss: 0.228240\n",
            "Epoch 1880/3000, Loss: 0.198200\n",
            "Epoch 1900/3000, Loss: 0.186316\n",
            "Epoch 1920/3000, Loss: 0.206407\n",
            "Epoch 1940/3000, Loss: 0.183549\n",
            "Epoch 1960/3000, Loss: 0.238713\n",
            "Epoch 1980/3000, Loss: 0.205959\n",
            "Epoch 2000/3000, Loss: 0.173240\n",
            "Epoch 2020/3000, Loss: 0.178262\n",
            "Epoch 2040/3000, Loss: 0.189976\n",
            "Epoch 2060/3000, Loss: 0.331752\n",
            "Epoch 2080/3000, Loss: 0.232202\n",
            "Epoch 2100/3000, Loss: 0.228084\n",
            "Epoch 2120/3000, Loss: 0.239223\n",
            "Epoch 2140/3000, Loss: 0.232772\n",
            "Epoch 2160/3000, Loss: 0.206996\n",
            "Epoch 2180/3000, Loss: 0.236957\n",
            "Epoch 2200/3000, Loss: 0.209106\n",
            "Epoch 2220/3000, Loss: 0.192664\n",
            "Epoch 2240/3000, Loss: 0.233611\n",
            "Epoch 2260/3000, Loss: 0.188047\n",
            "Epoch 2280/3000, Loss: 0.182290\n",
            "Epoch 2300/3000, Loss: 0.185473\n",
            "Epoch 2320/3000, Loss: 0.161474\n",
            "Epoch 2340/3000, Loss: 0.175955\n",
            "Epoch 2360/3000, Loss: 0.172473\n",
            "Epoch 2380/3000, Loss: 0.180681\n",
            "Epoch 2400/3000, Loss: 0.208958\n",
            "Epoch 2420/3000, Loss: 0.153507\n",
            "Epoch 2440/3000, Loss: 0.162279\n",
            "Epoch 2460/3000, Loss: 0.222200\n",
            "Epoch 2480/3000, Loss: 0.267059\n",
            "Epoch 2500/3000, Loss: 0.192739\n",
            "Epoch 2520/3000, Loss: 0.183364\n",
            "Epoch 2540/3000, Loss: 0.155530\n",
            "Epoch 2560/3000, Loss: 0.199476\n",
            "Epoch 2580/3000, Loss: 0.131073\n",
            "Epoch 2600/3000, Loss: 0.182484\n",
            "Epoch 2620/3000, Loss: 0.120857\n",
            "Epoch 2640/3000, Loss: 0.051265\n",
            "Epoch 2660/3000, Loss: 0.133089\n",
            "Epoch 2680/3000, Loss: 0.119454\n",
            "Epoch 2700/3000, Loss: 0.088903\n",
            "Epoch 2720/3000, Loss: 0.204566\n",
            "Epoch 2740/3000, Loss: 0.210593\n",
            "Epoch 2760/3000, Loss: 0.192047\n",
            "Epoch 2780/3000, Loss: 0.161687\n",
            "Epoch 2800/3000, Loss: 0.206243\n",
            "Epoch 2820/3000, Loss: 0.146028\n",
            "Epoch 2840/3000, Loss: 0.104883\n",
            "Epoch 2860/3000, Loss: 0.202703\n",
            "Epoch 2880/3000, Loss: 0.122477\n",
            "Epoch 2900/3000, Loss: 0.219445\n",
            "Epoch 2920/3000, Loss: 0.174215\n",
            "Epoch 2940/3000, Loss: 0.146354\n",
            "Epoch 2960/3000, Loss: 0.246353\n",
            "Epoch 2980/3000, Loss: 0.215689\n",
            "Epoch 3000/3000, Loss: 0.186153\n",
            "Training completed!\n"
          ]
        }
      ],
      "source": [
        "# Training loop\n",
        "print(\"Starting training...\")\n",
        "losses = []\n",
        "\n",
        "for epoch in range(epochs):\n",
        "    model.train()\n",
        "    epoch_loss = 0.0\n",
        "\n",
        "    for batch_idx, (x_batch, t_batch) in enumerate(complete_loader):\n",
        "        x_batch = x_batch.to(device)\n",
        "        t_batch = t_batch.to(device)\n",
        "\n",
        "        optimizer.zero_grad()\n",
        "\n",
        "        # Forward pass\n",
        "        x_pred, mean, logvar = model(x_batch, t_batch, complete_time_tensor.to(device))\n",
        "\n",
        "        # Compute loss\n",
        "        loss, recon_loss, kl_loss = loss_fn(x_pred, x_batch, mean, logvar, observed_mask_tensor.to(device))\n",
        "\n",
        "        # Backward pass\n",
        "        loss.backward()\n",
        "        optimizer.step()\n",
        "\n",
        "        epoch_loss += loss.item()\n",
        "\n",
        "    avg_loss = epoch_loss / len(complete_loader)\n",
        "    losses.append(avg_loss)\n",
        "\n",
        "    if (epoch + 1) % 20 == 0:\n",
        "        print(f\"Epoch {epoch+1}/{epochs}, Loss: {avg_loss:.6f}\")\n",
        "\n",
        "print(\"Training completed!\")"
      ]
    },
    {
      "cell_type": "code",
      "execution_count": 20,
      "metadata": {
        "id": "3j70DJiHmyhd"
      },
      "outputs": [],
      "source": [
        "# Evaluation and visualization\n",
        "model.eval()\n",
        "with torch.no_grad():\n",
        "    x_complete = complete_features_tensor.unsqueeze(0).to(device)\n",
        "    t_complete = complete_time_tensor.unsqueeze(0).to(device)\n",
        "\n",
        "    # Get predictions for all time points\n",
        "    x_pred, _, _ = model(x_complete, t_complete, complete_time_tensor.to(device))\n",
        "\n",
        "    # Move predictions back to CPU and convert to numpy\n",
        "    x_pred = x_pred.squeeze(0).cpu().numpy()\n",
        "\n",
        "    # Inverse transform to get the original scale\n",
        "    x_pred_original = feature_scaler.inverse_transform(x_pred)\n"
      ]
    },
    {
      "cell_type": "code",
      "execution_count": 21,
      "metadata": {
        "id": "_gO8R35xm3Ou"
      },
      "outputs": [],
      "source": [
        "# Compare the reconstructed trajectory with the original\n",
        "plt.figure(figsize=(15, 10))\n",
        "features = ['tx', 'ty', 'tz']\n",
        "\n",
        "for i in range(3):\n",
        "    plt.subplot(3, 1, i+1)\n",
        "\n",
        "    # Original complete data\n",
        "    plt.plot(complete_time, complete_features[:, i], 'b-', label='Original Complete')\n",
        "\n",
        "    # Incomplete data points\n",
        "    plt.plot(incomplete_time, incomplete_features[:, i], 'ro', markersize=4, label='Observed (Incomplete)')\n",
        "\n",
        "    # Reconstructed trajectory\n",
        "    plt.plot(complete_time, x_pred_original[:, i], 'g--', label='Reconstructed')\n",
        "\n",
        "    plt.title(f'Feature: {features[i]}')\n",
        "    plt.xlabel('Time')\n",
        "    plt.ylabel(features[i])\n",
        "    plt.legend()\n",
        "\n",
        "plt.tight_layout()\n",
        "plt.savefig('uav_trajectory_reconstruction.png')\n",
        "plt.close()"
      ]
    },
    {
      "cell_type": "code",
      "execution_count": 22,
      "metadata": {
        "id": "DlmzHeD6m6S3"
      },
      "outputs": [
        {
          "name": "stdout",
          "output_type": "stream",
          "text": [
            "Missing points reconstruction - MSE: 3.264683, MAE: 1.202237\n"
          ]
        }
      ],
      "source": [
        "# Calculate reconstruction error\n",
        "# First, find indices that exist in complete dataset but not in incomplete\n",
        "missing_indices = np.where(observed_mask == 0)[0]\n",
        "missing_original = complete_features[missing_indices]\n",
        "missing_reconstructed = x_pred_original[missing_indices]\n",
        "\n",
        "mse = np.mean((missing_original - missing_reconstructed) ** 2)\n",
        "mae = np.mean(np.abs(missing_original - missing_reconstructed))\n",
        "\n",
        "print(f\"Missing points reconstruction - MSE: {mse:.6f}, MAE: {mae:.6f}\")\n"
      ]
    },
    {
      "cell_type": "code",
      "execution_count": 23,
      "metadata": {
        "id": "6siX9c3bqsns"
      },
      "outputs": [],
      "source": [
        "import numpy as np\n",
        "from sklearn.metrics import mean_squared_error, r2_score"
      ]
    },
    {
      "cell_type": "code",
      "execution_count": 24,
      "metadata": {
        "id": "68eBET2Zm70J"
      },
      "outputs": [
        {
          "name": "stdout",
          "output_type": "stream",
          "text": [
            "Dimension tx - MSE: 4.432290, MAE: 1.699378\n",
            "Dimension ty - MSE: 5.359839, MAE: 1.872394\n",
            "Dimension tz - MSE: 0.001919, MAE: 0.034939\n"
          ]
        }
      ],
      "source": [
        "# Calculate error metrics for each dimension\n",
        "for i in range(3):\n",
        "    mse_dim = np.mean((missing_original[:, i] - missing_reconstructed[:, i]) ** 2)\n",
        "    mae_dim = np.mean(np.abs(missing_original[:, i] - missing_reconstructed[:, i]))\n",
        "    print(f\"Dimension {features[i]} - MSE: {mse_dim:.6f}, MAE: {mae_dim:.6f}\")\n"
      ]
    },
    {
      "cell_type": "code",
      "execution_count": 25,
      "metadata": {
        "id": "gNZtB846q8DJ"
      },
      "outputs": [],
      "source": [
        "y_true_missing = missing_original\n",
        "y_pred_missing = missing_reconstructed\n",
        "\n",
        "# Dữ liệu thực tế và dự đoán trên toàn bộ quỹ đạo\n",
        "y_true_all = complete_features\n",
        "y_pred_all = x_pred_original"
      ]
    },
    {
      "cell_type": "code",
      "execution_count": 26,
      "metadata": {
        "id": "RAT5fzgcrVWI"
      },
      "outputs": [
        {
          "name": "stdout",
          "output_type": "stream",
          "text": [
            "\n",
            "Tổng R^2 (trên điểm bị thiếu, trung bình các chiều): 0.457309\n",
            "R^2 cho chiều tx (trên điểm bị thiếu): 0.323851\n",
            "R^2 cho chiều ty (trên điểm bị thiếu): 0.462512\n",
            "R^2 cho chiều tz (trên điểm bị thiếu): 0.585564\n"
          ]
        }
      ],
      "source": [
        "# --- 2. R-squared (R^2) ---\n",
        "if y_true_missing.shape[0] > 0:\n",
        "    r2_total_missing = r2_score(y_true_missing, y_pred_missing, multioutput='uniform_average') # Tính R^2 trung bình cho các chiều\n",
        "    print(f\"\\nTổng R^2 (trên điểm bị thiếu, trung bình các chiều): {r2_total_missing:.6f}\")\n",
        "\n",
        "    for i in range(y_true_missing.shape[1]):\n",
        "        # Kiểm tra để tránh lỗi nếu một chiều có phương sai bằng 0 (ít xảy ra với dữ liệu thực)\n",
        "        if np.var(y_true_missing[:, i]) == 0 and np.var(y_pred_missing[:, i]) == 0 and np.mean(y_true_missing[:, i]) == np.mean(y_pred_missing[:, i]):\n",
        "            r2_dim_missing = 1.0 # Dự đoán hoàn hảo cho một hằng số\n",
        "        elif np.var(y_true_missing[:, i]) == 0:\n",
        "             r2_dim_missing = 0.0 # Không thể giải thích phương sai nếu không có phương sai\n",
        "        else:\n",
        "            r2_dim_missing = r2_score(y_true_missing[:, i], y_pred_missing[:, i])\n",
        "        print(f\"R^2 cho chiều {features[i]} (trên điểm bị thiếu): {r2_dim_missing:.6f}\")\n",
        "else:\n",
        "    print(\"\\nKhông có điểm dữ liệu nào bị thiếu để tính R^2.\")"
      ]
    },
    {
      "cell_type": "code",
      "execution_count": 27,
      "metadata": {
        "id": "TA5S5Gi7rfIi"
      },
      "outputs": [],
      "source": [
        "# --- 4. Directional Accuracy (DA) ---\n",
        "def directional_accuracy_func(y_true_da, y_pred_da):\n",
        "    y_true_da, y_pred_da = np.asarray(y_true_da), np.asarray(y_pred_da)\n",
        "    if len(y_true_da) < 2:\n",
        "        return np.nan # Cần ít nhất 2 điểm để so sánh hướng\n",
        "\n",
        "    true_diff = np.diff(y_true_da)\n",
        "    pred_diff = np.diff(y_pred_da)\n",
        "\n",
        "    true_direction = np.sign(true_diff)\n",
        "    pred_direction = np.sign(pred_diff)\n",
        "\n",
        "    # Xử lý trường hợp cả hai diff đều là 0 (không đổi hướng) là một dự đoán đúng\n",
        "    correct_direction = (true_direction == pred_direction)\n",
        "    return np.mean(correct_direction) * 100"
      ]
    },
    {
      "cell_type": "code",
      "execution_count": 28,
      "metadata": {
        "id": "uOrOAXT8rces"
      },
      "outputs": [
        {
          "name": "stdout",
          "output_type": "stream",
          "text": [
            "\n",
            "--- Directional Accuracy (trên các điểm bị thiếu, nếu theo thứ tự thời gian) ---\n",
            "DA cho chiều tx (trên điểm bị thiếu): 66.67%\n",
            "DA cho chiều ty (trên điểm bị thiếu): 56.32%\n",
            "DA cho chiều tz (trên điểm bị thiếu): 59.77%\n",
            "DA trung bình tổng thể (trên điểm bị thiếu, cho các chiều tính được): 60.92%\n"
          ]
        }
      ],
      "source": [
        "print(\"\\n--- Directional Accuracy (trên các điểm bị thiếu, nếu theo thứ tự thời gian) ---\")\n",
        "# Lưu ý: DA trên các điểm bị thiếu chỉ có ý nghĩa nếu các điểm đó được sắp xếp theo thời gian\n",
        "# và tạo thành một chuỗi có thể phân tích hướng.\n",
        "if y_true_missing.shape[0] >= 2:\n",
        "    da_missing_list = []\n",
        "    for i in range(y_true_missing.shape[1]):\n",
        "        da_dim_missing = directional_accuracy_func(y_true_missing[:, i], y_pred_missing[:, i])\n",
        "        if not np.isnan(da_dim_missing):\n",
        "            da_missing_list.append(da_dim_missing)\n",
        "        print(f\"DA cho chiều {features[i]} (trên điểm bị thiếu): {da_dim_missing:.2f}%\" if not np.isnan(da_dim_missing) else f\"DA cho chiều {features[i]} (trên điểm bị thiếu): Không đủ dữ liệu\")\n",
        "\n",
        "    if da_missing_list:\n",
        "        print(f\"DA trung bình tổng thể (trên điểm bị thiếu, cho các chiều tính được): {np.mean(da_missing_list):.2f}%\")\n",
        "    else:\n",
        "        print(\"DA trung bình tổng thể (trên điểm bị thiếu): Không thể tính.\")\n",
        "else:\n",
        "    print(\"Không đủ điểm dữ liệu bị thiếu để tính Directional Accuracy.\")"
      ]
    },
    {
      "cell_type": "code",
      "execution_count": 29,
      "metadata": {
        "id": "My_HpyTcrn-g"
      },
      "outputs": [
        {
          "name": "stdout",
          "output_type": "stream",
          "text": [
            "\n",
            "Tổng R^2 (toàn bộ quỹ đạo, trung bình các chiều): 0.383217\n",
            "R^2 cho chiều tx (toàn bộ quỹ đạo): 0.286546\n",
            "R^2 cho chiều ty (toàn bộ quỹ đạo): 0.392448\n",
            "R^2 cho chiều tz (toàn bộ quỹ đạo): 0.470656\n"
          ]
        }
      ],
      "source": [
        "# --- R-squared (R^2) trên toàn bộ quỹ đạo ---\n",
        "r2_total_all = r2_score(y_true_all, y_pred_all, multioutput='uniform_average')\n",
        "print(f\"\\nTổng R^2 (toàn bộ quỹ đạo, trung bình các chiều): {r2_total_all:.6f}\")\n",
        "for i in range(y_true_all.shape[1]):\n",
        "    if np.var(y_true_all[:, i]) == 0 and np.var(y_pred_all[:, i]) == 0 and np.mean(y_true_all[:, i]) == np.mean(y_pred_all[:, i]):\n",
        "        r2_dim_all = 1.0\n",
        "    elif np.var(y_true_all[:, i]) == 0:\n",
        "        r2_dim_all = 0.0\n",
        "    else:\n",
        "        r2_dim_all = r2_score(y_true_all[:, i], y_pred_all[:, i])\n",
        "    print(f\"R^2 cho chiều {features[i]} (toàn bộ quỹ đạo): {r2_dim_all:.6f}\")"
      ]
    },
    {
      "cell_type": "code",
      "execution_count": 30,
      "metadata": {
        "id": "g4Tw04J1rqdQ"
      },
      "outputs": [
        {
          "name": "stdout",
          "output_type": "stream",
          "text": [
            "\n",
            "--- Directional Accuracy (toàn bộ quỹ đạo) ---\n",
            "DA cho chiều tx (toàn bộ quỹ đạo): 63.01%\n",
            "DA cho chiều ty (toàn bộ quỹ đạo): 59.82%\n",
            "DA cho chiều tz (toàn bộ quỹ đạo): 59.82%\n",
            "DA trung bình tổng thể (toàn bộ quỹ đạo, cho các chiều tính được): 60.88%\n"
          ]
        }
      ],
      "source": [
        "# --- Directional Accuracy (DA) trên toàn bộ quỹ đạo ---\n",
        "print(\"\\n--- Directional Accuracy (toàn bộ quỹ đạo) ---\")\n",
        "if y_true_all.shape[0] >= 2:\n",
        "    da_all_list = []\n",
        "    for i in range(y_true_all.shape[1]):\n",
        "        da_dim_all = directional_accuracy_func(y_true_all[:, i], y_pred_all[:, i])\n",
        "        if not np.isnan(da_dim_all):\n",
        "            da_all_list.append(da_dim_all)\n",
        "        print(f\"DA cho chiều {features[i]} (toàn bộ quỹ đạo): {da_dim_all:.2f}%\" if not np.isnan(da_dim_all) else f\"DA cho chiều {features[i]} (toàn bộ quỹ đạo): Không đủ dữ liệu\")\n",
        "\n",
        "    if da_all_list:\n",
        "        print(f\"DA trung bình tổng thể (toàn bộ quỹ đạo, cho các chiều tính được): {np.mean(da_all_list):.2f}%\")\n",
        "    else:\n",
        "        print(\"DA trung bình tổng thể (toàn bộ quỹ đạo): Không thể tính.\")\n",
        "else:\n",
        "    print(\"Không đủ điểm dữ liệu trên toàn bộ quỹ đạo để tính Directional Accuracy.\")"
      ]
    },
    {
      "cell_type": "code",
      "execution_count": 31,
      "metadata": {
        "id": "mbi3xGYvr66Z"
      },
      "outputs": [],
      "source": [
        "# --- 3. Mean Absolute Percentage Error (MAPE) ---\n",
        "def mape_func(y_true_m, y_pred_m, epsilon=1e-8): # Thêm epsilon để tránh chia cho 0 tuyệt đối\n",
        "    y_true_m, y_pred_m = np.asarray(y_true_m), np.asarray(y_pred_m)\n",
        "\n",
        "    # Xử lý trường hợp y_true_m bằng 0\n",
        "    # Ở đây, chúng ta sẽ chỉ tính MAPE cho các điểm mà y_true_m khác 0.\n",
        "    # Hoặc có thể thay thế y_true_m == 0 bằng một giá trị rất nhỏ (epsilon) nếu muốn bao gồm chúng\n",
        "    # nhưng điều này có thể làm MAPE rất lớn nếu y_pred_m khác biệt đáng kể.\n",
        "\n",
        "    mask = y_true_m != 0\n",
        "    if not np.any(mask): # Nếu tất cả y_true_m đều bằng 0 (hoặc bị mask hết)\n",
        "         return np.nan # Không thể tính MAPE\n",
        "\n",
        "    # Chỉ tính trên các phần tử không bị mask\n",
        "    y_true_masked = y_true_m[mask]\n",
        "    y_pred_masked = y_pred_m[mask]\n",
        "\n",
        "    # Nếu sau khi mask không còn phần tử nào (trường hợp hiếm nếu ban đầu có dữ liệu)\n",
        "    if y_true_masked.shape[0] == 0:\n",
        "        return np.nan\n",
        "\n",
        "    return np.mean(np.abs((y_true_masked - y_pred_masked) / y_true_masked)) * 100"
      ]
    },
    {
      "cell_type": "code",
      "execution_count": 32,
      "metadata": {
        "id": "PmYGvvE3sDZh"
      },
      "outputs": [
        {
          "name": "stdout",
          "output_type": "stream",
          "text": [
            "\n",
            "MAPE trên toàn bộ quỹ đạo tái tạo:\n",
            "MAPE cho chiều tx (toàn bộ quỹ đạo): 18.91%\n",
            "MAPE cho chiều ty (toàn bộ quỹ đạo): 8.31%\n",
            "MAPE cho chiều tz (toàn bộ quỹ đạo): 0.26%\n",
            "MAPE trung bình tổng thể (toàn bộ quỹ đạo, cho các chiều tính được): 9.16%\n"
          ]
        }
      ],
      "source": [
        "# MAPE trên toàn bộ quỹ đạo tái tạo\n",
        "print(\"\\nMAPE trên toàn bộ quỹ đạo tái tạo:\")\n",
        "if y_true_all.shape[0] > 0:\n",
        "    mape_all_list = []\n",
        "    for i in range(y_true_all.shape[1]):\n",
        "        mape_dim_all = mape_func(y_true_all[:, i], y_pred_all[:, i])\n",
        "        if not np.isnan(mape_dim_all):\n",
        "            mape_all_list.append(mape_dim_all)\n",
        "        print(f\"MAPE cho chiều {features[i]} (toàn bộ quỹ đạo): {mape_dim_all:.2f}%\" if not np.isnan(mape_dim_all) else f\"MAPE cho chiều {features[i]} (toàn bộ quỹ đạo): Không thể tính (y_true có thể chứa giá trị 0)\")\n",
        "\n",
        "    if mape_all_list:\n",
        "        print(f\"MAPE trung bình tổng thể (toàn bộ quỹ đạo, cho các chiều tính được): {np.mean(mape_all_list):.2f}%\")\n",
        "    else:\n",
        "        print(\"MAPE trung bình tổng thể (toàn bộ quỹ đạo): Không thể tính.\")\n",
        "else:\n",
        "    print(\"Không có dữ liệu trên toàn bộ quỹ đạo để tính MAPE.\")"
      ]
    },
    {
      "cell_type": "code",
      "execution_count": 33,
      "metadata": {
        "id": "GWqrzViXsAMZ"
      },
      "outputs": [
        {
          "name": "stdout",
          "output_type": "stream",
          "text": [
            "\n",
            "MAPE trên các điểm bị thiếu:\n",
            "MAPE cho chiều tx (trên điểm bị thiếu): 17.96%\n",
            "MAPE cho chiều ty (trên điểm bị thiếu): 8.31%\n",
            "MAPE cho chiều tz (trên điểm bị thiếu): 0.27%\n",
            "MAPE trung bình tổng thể (trên điểm bị thiếu, cho các chiều tính được): 8.85%\n"
          ]
        }
      ],
      "source": [
        "# MAPE trên các điểm bị thiếu\n",
        "print(\"\\nMAPE trên các điểm bị thiếu:\")\n",
        "if y_true_missing.shape[0] > 0:\n",
        "    mape_missing_list = []\n",
        "    for i in range(y_true_missing.shape[1]):\n",
        "        mape_dim_missing = mape_func(y_true_missing[:, i], y_pred_missing[:, i])\n",
        "        if not np.isnan(mape_dim_missing):\n",
        "            mape_missing_list.append(mape_dim_missing)\n",
        "        print(f\"MAPE cho chiều {features[i]} (trên điểm bị thiếu): {mape_dim_missing:.2f}%\" if not np.isnan(mape_dim_missing) else f\"MAPE cho chiều {features[i]} (trên điểm bị thiếu): Không thể tính (y_true có thể chứa giá trị 0 hoặc không có điểm)\")\n",
        "\n",
        "    if mape_missing_list:\n",
        "        print(f\"MAPE trung bình tổng thể (trên điểm bị thiếu, cho các chiều tính được): {np.mean(mape_missing_list):.2f}%\")\n",
        "    else:\n",
        "        print(\"MAPE trung bình tổng thể (trên điểm bị thiếu): Không thể tính.\")\n",
        "else:\n",
        "    print(\"Không có điểm dữ liệu nào bị thiếu để tính MAPE.\")"
      ]
    },
    {
      "cell_type": "code",
      "execution_count": 34,
      "metadata": {
        "id": "9L87Eodxm9i_"
      },
      "outputs": [],
      "source": [
        "# Create a more detailed comparison plot for missing points\n",
        "plt.figure(figsize=(15, 10))\n",
        "for i in range(3):\n",
        "    plt.subplot(3, 1, i+1)\n",
        "\n",
        "    # Original values at missing points\n",
        "    plt.plot(complete_time[missing_indices], missing_original[:, i], 'bx', markersize=6, label='Original (Missing)')\n",
        "\n",
        "    # Reconstructed values at missing points\n",
        "    plt.plot(complete_time[missing_indices], missing_reconstructed[:, i], 'go', markersize=4, label='Reconstructed')\n",
        "\n",
        "    plt.title(f'Reconstruction of Missing Points: {features[i]}')\n",
        "    plt.xlabel('Time')\n",
        "    plt.ylabel(features[i])\n",
        "    plt.legend()\n",
        "\n",
        "plt.tight_layout()\n",
        "plt.savefig('missing_points_comparison.png')\n",
        "plt.close()"
      ]
    },
    {
      "cell_type": "code",
      "execution_count": 35,
      "metadata": {
        "id": "6djiThoim-Me"
      },
      "outputs": [],
      "source": [
        "# Plot training loss\n",
        "plt.figure(figsize=(10, 6))\n",
        "plt.plot(range(1, len(losses) + 1), losses)\n",
        "plt.title('Training Loss')\n",
        "plt.xlabel('Epoch')\n",
        "plt.ylabel('Loss')\n",
        "plt.grid(True)\n",
        "plt.savefig('training_loss.png')\n",
        "plt.close()\n"
      ]
    },
    {
      "cell_type": "code",
      "execution_count": 36,
      "metadata": {
        "id": "ijDeLTp7nBIm"
      },
      "outputs": [],
      "source": [
        "# 3D trajectory visualization\n",
        "fig = plt.figure(figsize=(10, 8))\n",
        "ax = fig.add_subplot(111, projection='3d')\n",
        "\n",
        "# Original complete trajectory\n",
        "ax.plot3D(complete_features[:, 0], complete_features[:, 1], complete_features[:, 2],\n",
        "         'b-', linewidth=1, label='Original Complete')\n",
        "\n",
        "# Observed points\n",
        "ax.scatter(incomplete_features[:, 0], incomplete_features[:, 1], incomplete_features[:, 2],\n",
        "          c='r', s=30, label='Observed Points')\n",
        "\n",
        "# Reconstructed trajectory\n",
        "ax.plot3D(x_pred_original[:, 0], x_pred_original[:, 1], x_pred_original[:, 2],\n",
        "         'g--', linewidth=2, label='Reconstructed')\n",
        "\n",
        "ax.set_xlabel('tx')\n",
        "ax.set_ylabel('ty')\n",
        "ax.set_zlabel('tz')\n",
        "ax.set_title('UAV 3D Trajectory Reconstruction')\n",
        "ax.legend()\n",
        "\n",
        "plt.tight_layout()\n",
        "plt.savefig('uav_3d_trajectory.png')\n",
        "plt.close()"
      ]
    },
    {
      "cell_type": "code",
      "execution_count": 37,
      "metadata": {
        "id": "6Uk5X2O5nC8m"
      },
      "outputs": [
        {
          "name": "stdout",
          "output_type": "stream",
          "text": [
            "Reconstructed trajectory saved to 'uav_reconstructed_trajectory.csv'\n"
          ]
        }
      ],
      "source": [
        "# Save the reconstructed trajectory to CSV\n",
        "reconstructed_df = pd.DataFrame({\n",
        "    'timestamp': complete_time,\n",
        "    'tx': x_pred_original[:, 0],\n",
        "    'ty': x_pred_original[:, 1],\n",
        "    'tz': x_pred_original[:, 2]\n",
        "})\n",
        "reconstructed_df.to_csv('uav_reconstructed_trajectory.csv', index=False)\n",
        "print(\"Reconstructed trajectory saved to 'uav_reconstructed_trajectory.csv'\")"
      ]
    }
  ],
  "metadata": {
    "accelerator": "GPU",
    "colab": {
      "gpuType": "T4",
      "provenance": []
    },
    "kernelspec": {
      "display_name": "Pytorch",
      "language": "python",
      "name": "python3"
    },
    "language_info": {
      "codemirror_mode": {
        "name": "ipython",
        "version": 3
      },
      "file_extension": ".py",
      "mimetype": "text/x-python",
      "name": "python",
      "nbconvert_exporter": "python",
      "pygments_lexer": "ipython3",
      "version": "3.10.12"
    }
  },
  "nbformat": 4,
  "nbformat_minor": 0
}
